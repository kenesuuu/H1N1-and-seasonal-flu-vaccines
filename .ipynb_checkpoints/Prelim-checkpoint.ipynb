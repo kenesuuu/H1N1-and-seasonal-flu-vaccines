{
 "cells": [
  {
   "cell_type": "code",
   "execution_count": 5,
   "id": "fb5bf094",
   "metadata": {},
   "outputs": [],
   "source": [
    "import pandas as pd\n",
    "import numpy as np\n",
    "import matplotlib.pyplot as plt\n",
    "import seaborn as sns\n",
    "from sklearn.model_selection import train_test_split\n",
    "from sklearn.preprocessing import StandardScaler, OneHotEncoder\n",
    "from sklearn.impute import SimpleImputer\n",
    "from sklearn.compose import ColumnTransformer\n",
    "from sklearn.metrics import roc_curve, roc_auc_score\n",
    "from catboost import CatBoostClassifier, Pool, cv\n",
    "import optuna\n",
    "import os"
   ]
  },
  {
   "cell_type": "code",
   "execution_count": 6,
   "id": "e41209b6",
   "metadata": {},
   "outputs": [],
   "source": [
    "TRAIN_PATH = './training_set_features.csv'\n",
    "TEST_PATH = './test_set_features.csv'\n",
    "LABELS_PATH = './training_set_labels.csv'\n",
    "SUBMISSION_FORMAT_PATH = './submission_format.csv'\n",
    "OUTPUT_DIR = 'predictions'\n",
    "os.makedirs(OUTPUT_DIR, exist_ok=True)"
   ]
  },
  {
   "cell_type": "code",
   "execution_count": 7,
   "id": "0c8c7d5c",
   "metadata": {},
   "outputs": [],
   "source": [
    "train = pd.read_csv(TRAIN_PATH, index_col='respondent_id')\n",
    "test = pd.read_csv(TEST_PATH, index_col='respondent_id')\n",
    "labels = pd.read_csv(LABELS_PATH, index_col='respondent_id')"
   ]
  },
  {
   "cell_type": "code",
   "execution_count": 8,
   "id": "89fb2b4e",
   "metadata": {},
   "outputs": [],
   "source": [
    "num_cols = train.select_dtypes('number').columns\n",
    "cat_cols = ['race', 'sex', 'marital_status', 'rent_or_own', 'hhs_geo_region', 'census_msa', 'employment_industry', 'employment_occupation']\n",
    "ord_cols = ['age_group', 'education', 'income_poverty', 'employment_status']\n",
    "\n",
    "for col in cat_cols + ord_cols:\n",
    "    train[col] = train[col].fillna(value='None')\n",
    "for col in num_cols:\n",
    "    train[col] = train[col].fillna(value=-1)\n"
   ]
  },
  {
   "cell_type": "code",
   "execution_count": 9,
   "id": "7ddefd84",
   "metadata": {},
   "outputs": [],
   "source": [
    "for col in cat_cols + ord_cols:\n",
    "    test[col] = test[col].fillna(value='None')\n",
    "for col in num_cols:\n",
    "    test[col] = test[col].fillna(value=-1)\n",
    "\n",
    "X_train, X_test, y_train, y_test = train_test_split(train, labels, test_size=0.3, random_state=68)\n",
    "train_dataset = Pool(data=X_train, label=y_train.h1n1_vaccine, cat_features=np.where(X_train.dtypes != float)[0])\n"
   ]
  },
  {
   "cell_type": "code",
   "execution_count": 10,
   "id": "24f7e808",
   "metadata": {
    "scrolled": true
   },
   "outputs": [
    {
     "name": "stderr",
     "output_type": "stream",
     "text": [
      "[I 2024-02-26 13:57:07,867] A new study created in memory with name: no-name-aa1c725f-47c9-48eb-a9c4-61ec36ac2506\n",
      "C:\\Users\\kenne\\AppData\\Local\\Temp\\ipykernel_15116\\2115235330.py:24: FutureWarning: suggest_loguniform has been deprecated in v3.0.0. This feature will be removed in v6.0.0. See https://github.com/optuna/optuna/releases/tag/v3.0.0. Use suggest_float(..., log=True) instead.\n",
      "  \"l2_leaf_reg\": trial.suggest_loguniform(\"l2_leaf_reg\", 1e-8, 100),\n"
     ]
    },
    {
     "name": "stdout",
     "output_type": "stream",
     "text": [
      "Training on fold [0/5]\n",
      "\n",
      "bestTest = 0.4614794565\n",
      "bestIteration = 86\n",
      "\n",
      "Training on fold [1/5]\n",
      "\n",
      "bestTest = 0.4533063544\n",
      "bestIteration = 91\n",
      "\n",
      "Training on fold [2/5]\n",
      "\n",
      "bestTest = 0.4658451867\n",
      "bestIteration = 78\n",
      "\n",
      "Training on fold [3/5]\n",
      "\n",
      "bestTest = 0.464773017\n",
      "bestIteration = 69\n",
      "\n",
      "Training on fold [4/5]\n"
     ]
    },
    {
     "name": "stderr",
     "output_type": "stream",
     "text": [
      "[I 2024-02-26 13:57:11,206] Trial 0 finished with value: 0.8613530599906909 and parameters: {'iterations': 300, 'learning_rate': 0.18362225796664797, 'random_strength': 3, 'bagging_temperature': 8, 'max_bin': 20, 'grow_policy': 'Depthwise', 'min_data_in_leaf': 6, 'max_depth': 3, 'l2_leaf_reg': 6.821885271517299e-07, 'one_hot_max_size': 100, 'auto_class_weights': 'Balanced'}. Best is trial 0 with value: 0.8613530599906909.\n"
     ]
    },
    {
     "name": "stdout",
     "output_type": "stream",
     "text": [
      "\n",
      "bestTest = 0.471096766\n",
      "bestIteration = 68\n",
      "\n",
      "Training on fold [0/5]\n",
      "\n",
      "bestTest = 0.4572237121\n",
      "bestIteration = 25\n",
      "\n",
      "Training on fold [1/5]\n",
      "\n",
      "bestTest = 0.4540180797\n",
      "bestIteration = 23\n",
      "\n",
      "Training on fold [2/5]\n",
      "\n",
      "bestTest = 0.4493341893\n",
      "bestIteration = 30\n",
      "\n",
      "Training on fold [3/5]\n",
      "\n",
      "bestTest = 0.4475665226\n",
      "bestIteration = 19\n",
      "\n",
      "Training on fold [4/5]\n"
     ]
    },
    {
     "name": "stderr",
     "output_type": "stream",
     "text": [
      "[I 2024-02-26 13:57:21,303] Trial 1 finished with value: 0.8449620088772599 and parameters: {'iterations': 300, 'learning_rate': 0.24193501161833672, 'random_strength': 8, 'bagging_temperature': 0, 'max_bin': 10, 'grow_policy': 'Depthwise', 'min_data_in_leaf': 9, 'max_depth': 7, 'l2_leaf_reg': 0.00035776510407144776, 'one_hot_max_size': 10, 'auto_class_weights': 'SqrtBalanced'}. Best is trial 0 with value: 0.8613530599906909.\n"
     ]
    },
    {
     "name": "stdout",
     "output_type": "stream",
     "text": [
      "\n",
      "bestTest = 0.4515309955\n",
      "bestIteration = 45\n",
      "\n",
      "Training on fold [0/5]\n",
      "\n",
      "bestTest = 0.4314949113\n",
      "bestIteration = 79\n",
      "\n",
      "Training on fold [1/5]\n",
      "\n",
      "bestTest = 0.4256431923\n",
      "bestIteration = 70\n",
      "\n",
      "Training on fold [2/5]\n",
      "\n",
      "bestTest = 0.4275463616\n",
      "bestIteration = 108\n",
      "\n",
      "Training on fold [3/5]\n",
      "\n",
      "bestTest = 0.4276260555\n",
      "bestIteration = 86\n",
      "\n",
      "Training on fold [4/5]\n"
     ]
    },
    {
     "name": "stderr",
     "output_type": "stream",
     "text": [
      "[I 2024-02-26 13:57:33,838] Trial 2 finished with value: 0.8625065324449226 and parameters: {'iterations': 300, 'learning_rate': 0.22118103467131323, 'random_strength': 10, 'bagging_temperature': 0, 'max_bin': 4, 'grow_policy': 'Depthwise', 'min_data_in_leaf': 9, 'max_depth': 3, 'l2_leaf_reg': 4.322937052577394e-05, 'one_hot_max_size': 5, 'auto_class_weights': 'SqrtBalanced'}. Best is trial 2 with value: 0.8625065324449226.\n"
     ]
    },
    {
     "name": "stdout",
     "output_type": "stream",
     "text": [
      "\n",
      "bestTest = 0.4300034552\n",
      "bestIteration = 105\n",
      "\n",
      "Training on fold [0/5]\n",
      "\n",
      "bestTest = 0.458913242\n",
      "bestIteration = 54\n",
      "\n",
      "Training on fold [1/5]\n",
      "\n",
      "bestTest = 0.4499154913\n",
      "bestIteration = 79\n",
      "\n",
      "Training on fold [2/5]\n",
      "\n",
      "bestTest = 0.4581370332\n",
      "bestIteration = 88\n",
      "\n",
      "Training on fold [3/5]\n",
      "\n",
      "bestTest = 0.46092171\n",
      "bestIteration = 53\n",
      "\n",
      "Training on fold [4/5]\n"
     ]
    },
    {
     "name": "stderr",
     "output_type": "stream",
     "text": [
      "[I 2024-02-26 13:57:38,021] Trial 3 finished with value: 0.8650744259752235 and parameters: {'iterations': 300, 'learning_rate': 0.1805645651222238, 'random_strength': 1, 'bagging_temperature': 6, 'max_bin': 6, 'grow_policy': 'SymmetricTree', 'min_data_in_leaf': 3, 'max_depth': 7, 'l2_leaf_reg': 59.94431750476703, 'one_hot_max_size': 1024, 'auto_class_weights': 'Balanced'}. Best is trial 3 with value: 0.8650744259752235.\n"
     ]
    },
    {
     "name": "stdout",
     "output_type": "stream",
     "text": [
      "\n",
      "bestTest = 0.4625639903\n",
      "bestIteration = 70\n",
      "\n",
      "Training on fold [0/5]\n",
      "\n",
      "bestTest = 0.4764674721\n",
      "bestIteration = 97\n",
      "\n",
      "Training on fold [1/5]\n",
      "\n",
      "bestTest = 0.4702854243\n",
      "bestIteration = 99\n",
      "\n",
      "Training on fold [2/5]\n",
      "\n",
      "bestTest = 0.4777915853\n",
      "bestIteration = 99\n",
      "\n",
      "Training on fold [3/5]\n",
      "\n",
      "bestTest = 0.4718062879\n",
      "bestIteration = 99\n",
      "\n",
      "Training on fold [4/5]\n"
     ]
    },
    {
     "name": "stderr",
     "output_type": "stream",
     "text": [
      "[I 2024-02-26 13:57:43,707] Trial 4 finished with value: 0.8564729421272744 and parameters: {'iterations': 100, 'learning_rate': 0.07435661056070465, 'random_strength': 9, 'bagging_temperature': 0, 'max_bin': 10, 'grow_policy': 'SymmetricTree', 'min_data_in_leaf': 3, 'max_depth': 7, 'l2_leaf_reg': 0.2924896576251201, 'one_hot_max_size': 500, 'auto_class_weights': 'Balanced'}. Best is trial 3 with value: 0.8650744259752235.\n"
     ]
    },
    {
     "name": "stdout",
     "output_type": "stream",
     "text": [
      "\n",
      "bestTest = 0.4762704485\n",
      "bestIteration = 99\n",
      "\n",
      "Training on fold [0/5]\n",
      "\n",
      "bestTest = 0.4416240514\n",
      "bestIteration = 99\n",
      "\n",
      "Training on fold [1/5]\n",
      "\n",
      "bestTest = 0.4396378557\n",
      "bestIteration = 99\n",
      "\n",
      "Training on fold [2/5]\n",
      "\n",
      "bestTest = 0.4482419565\n",
      "bestIteration = 99\n",
      "\n",
      "Training on fold [3/5]\n",
      "\n",
      "bestTest = 0.4392837016\n",
      "bestIteration = 99\n",
      "\n",
      "Training on fold [4/5]\n"
     ]
    },
    {
     "name": "stderr",
     "output_type": "stream",
     "text": [
      "[I 2024-02-26 13:57:54,195] Trial 5 finished with value: 0.8555583963373913 and parameters: {'iterations': 100, 'learning_rate': 0.09242980513116487, 'random_strength': 3, 'bagging_temperature': 4, 'max_bin': 10, 'grow_policy': 'Depthwise', 'min_data_in_leaf': 2, 'max_depth': 2, 'l2_leaf_reg': 1.4858547918725606e-08, 'one_hot_max_size': 5, 'auto_class_weights': 'SqrtBalanced'}. Best is trial 3 with value: 0.8650744259752235.\n"
     ]
    },
    {
     "name": "stdout",
     "output_type": "stream",
     "text": [
      "\n",
      "bestTest = 0.44592177\n",
      "bestIteration = 99\n",
      "\n",
      "Training on fold [0/5]\n",
      "\n",
      "bestTest = 0.4774217178\n",
      "bestIteration = 299\n",
      "\n",
      "Training on fold [1/5]\n",
      "\n",
      "bestTest = 0.4736956681\n",
      "bestIteration = 299\n",
      "\n",
      "Training on fold [2/5]\n",
      "\n",
      "bestTest = 0.4824766005\n",
      "bestIteration = 299\n",
      "\n",
      "Training on fold [3/5]\n",
      "\n",
      "bestTest = 0.4750840077\n",
      "bestIteration = 299\n",
      "\n",
      "Training on fold [4/5]\n"
     ]
    },
    {
     "name": "stderr",
     "output_type": "stream",
     "text": [
      "[I 2024-02-26 13:58:03,756] Trial 6 finished with value: 0.856578125191039 and parameters: {'iterations': 300, 'learning_rate': 0.012376650405912824, 'random_strength': 1, 'bagging_temperature': 0, 'max_bin': 6, 'grow_policy': 'SymmetricTree', 'min_data_in_leaf': 2, 'max_depth': 4, 'l2_leaf_reg': 0.004530722270067636, 'one_hot_max_size': 100, 'auto_class_weights': 'Balanced'}. Best is trial 3 with value: 0.8650744259752235.\n"
     ]
    },
    {
     "name": "stdout",
     "output_type": "stream",
     "text": [
      "\n",
      "bestTest = 0.4828845996\n",
      "bestIteration = 299\n",
      "\n",
      "Training on fold [0/5]\n",
      "\n",
      "bestTest = 0.4845513701\n",
      "bestIteration = 27\n",
      "\n",
      "Training on fold [1/5]\n",
      "\n",
      "bestTest = 0.4699059903\n",
      "bestIteration = 33\n",
      "\n",
      "Training on fold [2/5]\n",
      "\n",
      "bestTest = 0.4826438455\n",
      "bestIteration = 42\n",
      "\n",
      "Training on fold [3/5]\n",
      "\n",
      "bestTest = 0.4747756095\n",
      "bestIteration = 46\n",
      "\n",
      "Training on fold [4/5]\n"
     ]
    },
    {
     "name": "stderr",
     "output_type": "stream",
     "text": [
      "[I 2024-02-26 13:58:45,714] Trial 7 finished with value: 0.8519877893319411 and parameters: {'iterations': 200, 'learning_rate': 0.19660091312026454, 'random_strength': 4, 'bagging_temperature': 10, 'max_bin': 10, 'grow_policy': 'Lossguide', 'min_data_in_leaf': 6, 'max_depth': 9, 'l2_leaf_reg': 1.7056087167768206e-06, 'one_hot_max_size': 5, 'auto_class_weights': 'Balanced'}. Best is trial 3 with value: 0.8650744259752235.\n"
     ]
    },
    {
     "name": "stdout",
     "output_type": "stream",
     "text": [
      "\n",
      "bestTest = 0.4887681016\n",
      "bestIteration = 48\n",
      "\n",
      "Training on fold [0/5]\n",
      "\n",
      "bestTest = 0.4393163486\n",
      "bestIteration = 54\n",
      "\n",
      "Training on fold [1/5]\n",
      "\n",
      "bestTest = 0.4253337841\n",
      "bestIteration = 99\n",
      "\n",
      "Training on fold [2/5]\n",
      "\n",
      "bestTest = 0.4445523649\n",
      "bestIteration = 55\n",
      "\n",
      "Training on fold [3/5]\n",
      "\n",
      "bestTest = 0.4338903108\n",
      "bestIteration = 67\n",
      "\n",
      "Training on fold [4/5]\n"
     ]
    },
    {
     "name": "stderr",
     "output_type": "stream",
     "text": [
      "[I 2024-02-26 13:59:05,443] Trial 8 finished with value: 0.8576993442916117 and parameters: {'iterations': 100, 'learning_rate': 0.09990231527061084, 'random_strength': 3, 'bagging_temperature': 8, 'max_bin': 10, 'grow_policy': 'Depthwise', 'min_data_in_leaf': 8, 'max_depth': 6, 'l2_leaf_reg': 0.0011083931933744953, 'one_hot_max_size': 12, 'auto_class_weights': 'SqrtBalanced'}. Best is trial 3 with value: 0.8650744259752235.\n"
     ]
    },
    {
     "name": "stdout",
     "output_type": "stream",
     "text": [
      "\n",
      "bestTest = 0.4354529088\n",
      "bestIteration = 99\n",
      "\n",
      "Training on fold [0/5]\n",
      "\n",
      "bestTest = 0.4312848077\n",
      "bestIteration = 47\n",
      "\n",
      "Training on fold [1/5]\n",
      "\n",
      "bestTest = 0.4207530913\n",
      "bestIteration = 77\n",
      "\n",
      "Training on fold [2/5]\n",
      "\n",
      "bestTest = 0.4351236902\n",
      "bestIteration = 45\n",
      "\n",
      "Training on fold [3/5]\n",
      "\n",
      "bestTest = 0.4292323103\n",
      "bestIteration = 52\n",
      "\n",
      "Training on fold [4/5]\n"
     ]
    },
    {
     "name": "stderr",
     "output_type": "stream",
     "text": [
      "[I 2024-02-26 13:59:07,908] Trial 9 finished with value: 0.8618197112129693 and parameters: {'iterations': 300, 'learning_rate': 0.23735651162208599, 'random_strength': 1, 'bagging_temperature': 4, 'max_bin': 10, 'grow_policy': 'SymmetricTree', 'min_data_in_leaf': 2, 'max_depth': 4, 'l2_leaf_reg': 0.0007341379145692459, 'one_hot_max_size': 100, 'auto_class_weights': 'SqrtBalanced'}. Best is trial 3 with value: 0.8650744259752235.\n"
     ]
    },
    {
     "name": "stdout",
     "output_type": "stream",
     "text": [
      "\n",
      "bestTest = 0.4344126197\n",
      "bestIteration = 43\n",
      "\n",
      "Training on fold [0/5]\n",
      "\n",
      "bestTest = 0.4684711093\n",
      "bestIteration = 47\n",
      "\n",
      "Training on fold [1/5]\n",
      "\n",
      "bestTest = 0.4531972407\n",
      "bestIteration = 51\n",
      "\n",
      "Training on fold [2/5]\n",
      "\n",
      "bestTest = 0.4605659349\n",
      "bestIteration = 50\n",
      "\n",
      "Training on fold [3/5]\n",
      "\n",
      "bestTest = 0.4688985477\n",
      "bestIteration = 40\n",
      "\n",
      "Training on fold [4/5]\n"
     ]
    },
    {
     "name": "stderr",
     "output_type": "stream",
     "text": [
      "[I 2024-02-26 13:59:12,156] Trial 10 finished with value: 0.8614019096944526 and parameters: {'iterations': 500, 'learning_rate': 0.2961839031849055, 'random_strength': 6, 'bagging_temperature': 6, 'max_bin': 6, 'grow_policy': 'Lossguide', 'min_data_in_leaf': 4, 'max_depth': 10, 'l2_leaf_reg': 45.33147627664518, 'one_hot_max_size': 1024, 'auto_class_weights': 'Balanced'}. Best is trial 3 with value: 0.8650744259752235.\n"
     ]
    },
    {
     "name": "stdout",
     "output_type": "stream",
     "text": [
      "\n",
      "bestTest = 0.4677805975\n",
      "bestIteration = 48\n",
      "\n",
      "Training on fold [0/5]\n",
      "\n",
      "bestTest = 0.4267707883\n",
      "bestIteration = 110\n",
      "\n",
      "Training on fold [1/5]\n",
      "\n",
      "bestTest = 0.4171606678\n",
      "bestIteration = 136\n",
      "\n",
      "Training on fold [2/5]\n",
      "\n",
      "bestTest = 0.4259320342\n",
      "bestIteration = 115\n",
      "\n",
      "Training on fold [3/5]\n",
      "\n",
      "bestTest = 0.4230826414\n",
      "bestIteration = 117\n",
      "\n",
      "Training on fold [4/5]\n"
     ]
    },
    {
     "name": "stderr",
     "output_type": "stream",
     "text": [
      "[I 2024-02-26 13:59:18,285] Trial 11 finished with value: 0.865951601991612 and parameters: {'iterations': 300, 'learning_rate': 0.15059366995992884, 'random_strength': 10, 'bagging_temperature': 2, 'max_bin': 4, 'grow_policy': 'SymmetricTree', 'min_data_in_leaf': 10, 'max_depth': 6, 'l2_leaf_reg': 62.23820735937932, 'one_hot_max_size': 1024, 'auto_class_weights': 'SqrtBalanced'}. Best is trial 11 with value: 0.865951601991612.\n"
     ]
    },
    {
     "name": "stdout",
     "output_type": "stream",
     "text": [
      "\n",
      "bestTest = 0.4277853584\n",
      "bestIteration = 131\n",
      "\n",
      "Training on fold [0/5]\n",
      "\n",
      "bestTest = 0.4252136718\n",
      "bestIteration = 115\n",
      "\n",
      "Training on fold [1/5]\n",
      "\n",
      "bestTest = 0.4159221916\n",
      "bestIteration = 132\n",
      "\n",
      "Training on fold [2/5]\n",
      "\n",
      "bestTest = 0.4274549881\n",
      "bestIteration = 125\n",
      "\n",
      "Training on fold [3/5]\n",
      "\n",
      "bestTest = 0.4227661396\n",
      "bestIteration = 126\n",
      "\n",
      "Training on fold [4/5]\n"
     ]
    },
    {
     "name": "stderr",
     "output_type": "stream",
     "text": [
      "[I 2024-02-26 13:59:24,564] Trial 12 finished with value: 0.866324905820586 and parameters: {'iterations': 500, 'learning_rate': 0.13695845166770146, 'random_strength': 7, 'bagging_temperature': 3, 'max_bin': 8, 'grow_policy': 'SymmetricTree', 'min_data_in_leaf': 5, 'max_depth': 6, 'l2_leaf_reg': 68.40198598361525, 'one_hot_max_size': 1024, 'auto_class_weights': 'SqrtBalanced'}. Best is trial 12 with value: 0.866324905820586.\n"
     ]
    },
    {
     "name": "stdout",
     "output_type": "stream",
     "text": [
      "\n",
      "bestTest = 0.4269238874\n",
      "bestIteration = 106\n",
      "\n",
      "Training on fold [0/5]\n",
      "\n",
      "bestTest = 0.4274995726\n",
      "bestIteration = 104\n",
      "\n",
      "Training on fold [1/5]\n",
      "\n",
      "bestTest = 0.4180481282\n",
      "bestIteration = 131\n",
      "\n",
      "Training on fold [2/5]\n",
      "\n",
      "bestTest = 0.4318356432\n",
      "bestIteration = 136\n",
      "\n",
      "Training on fold [3/5]\n",
      "\n",
      "bestTest = 0.4241236993\n",
      "bestIteration = 132\n",
      "\n",
      "Training on fold [4/5]\n"
     ]
    },
    {
     "name": "stderr",
     "output_type": "stream",
     "text": [
      "[I 2024-02-26 13:59:30,082] Trial 13 finished with value: 0.8645872012991636 and parameters: {'iterations': 500, 'learning_rate': 0.13687630182137586, 'random_strength': 7, 'bagging_temperature': 3, 'max_bin': 8, 'grow_policy': 'SymmetricTree', 'min_data_in_leaf': 7, 'max_depth': 5, 'l2_leaf_reg': 0.6508309626267891, 'one_hot_max_size': 1024, 'auto_class_weights': 'SqrtBalanced'}. Best is trial 12 with value: 0.866324905820586.\n"
     ]
    },
    {
     "name": "stdout",
     "output_type": "stream",
     "text": [
      "\n",
      "bestTest = 0.4289928755\n",
      "bestIteration = 132\n",
      "\n",
      "Training on fold [0/5]\n",
      "\n",
      "bestTest = 0.4343187582\n",
      "bestIteration = 72\n",
      "\n",
      "Training on fold [1/5]\n",
      "\n",
      "bestTest = 0.4244316386\n",
      "bestIteration = 92\n",
      "\n",
      "Training on fold [2/5]\n",
      "\n",
      "bestTest = 0.4296367866\n",
      "bestIteration = 105\n",
      "\n",
      "Training on fold [3/5]\n",
      "\n",
      "bestTest = 0.4245297769\n",
      "bestIteration = 92\n",
      "\n",
      "Training on fold [4/5]\n"
     ]
    },
    {
     "name": "stderr",
     "output_type": "stream",
     "text": [
      "[I 2024-02-26 13:59:35,545] Trial 14 finished with value: 0.861075911549913 and parameters: {'iterations': 500, 'learning_rate': 0.1432169052547908, 'random_strength': 10, 'bagging_temperature': 2, 'max_bin': 8, 'grow_policy': 'SymmetricTree', 'min_data_in_leaf': 10, 'max_depth': 8, 'l2_leaf_reg': 1.561736460360325, 'one_hot_max_size': 1024, 'auto_class_weights': 'SqrtBalanced'}. Best is trial 12 with value: 0.866324905820586.\n"
     ]
    },
    {
     "name": "stdout",
     "output_type": "stream",
     "text": [
      "\n",
      "bestTest = 0.4380702792\n",
      "bestIteration = 67\n",
      "\n",
      "Training on fold [0/5]\n",
      "\n",
      "bestTest = 0.4414347258\n",
      "bestIteration = 199\n",
      "\n",
      "Training on fold [1/5]\n",
      "\n",
      "bestTest = 0.4370039566\n",
      "bestIteration = 199\n",
      "\n",
      "Training on fold [2/5]\n",
      "\n",
      "bestTest = 0.4453122106\n",
      "bestIteration = 199\n",
      "\n",
      "Training on fold [3/5]\n",
      "\n",
      "bestTest = 0.4379596981\n",
      "bestIteration = 199\n",
      "\n",
      "Training on fold [4/5]\n"
     ]
    },
    {
     "name": "stderr",
     "output_type": "stream",
     "text": [
      "[I 2024-02-26 13:59:43,532] Trial 15 finished with value: 0.8582469486122821 and parameters: {'iterations': 200, 'learning_rate': 0.034788868075192506, 'random_strength': 8, 'bagging_temperature': 2, 'max_bin': 4, 'grow_policy': 'SymmetricTree', 'min_data_in_leaf': 5, 'max_depth': 5, 'l2_leaf_reg': 0.042632701918980546, 'one_hot_max_size': 1024, 'auto_class_weights': 'SqrtBalanced'}. Best is trial 12 with value: 0.866324905820586.\n"
     ]
    },
    {
     "name": "stdout",
     "output_type": "stream",
     "text": [
      "\n",
      "bestTest = 0.4411793956\n",
      "bestIteration = 199\n",
      "\n",
      "Training on fold [0/5]\n",
      "\n",
      "bestTest = 0.4229965605\n",
      "bestIteration = 129\n",
      "\n",
      "Training on fold [1/5]\n",
      "\n",
      "bestTest = 0.4168234723\n",
      "bestIteration = 128\n",
      "\n",
      "Training on fold [2/5]\n",
      "\n",
      "bestTest = 0.4251783816\n",
      "bestIteration = 132\n",
      "\n",
      "Training on fold [3/5]\n",
      "\n",
      "bestTest = 0.4271544936\n",
      "bestIteration = 123\n",
      "\n",
      "Training on fold [4/5]\n"
     ]
    },
    {
     "name": "stderr",
     "output_type": "stream",
     "text": [
      "[I 2024-02-26 14:01:25,642] Trial 16 finished with value: 0.8656994527302126 and parameters: {'iterations': 500, 'learning_rate': 0.1185855397078881, 'random_strength': 6, 'bagging_temperature': 2, 'max_bin': 5, 'grow_policy': 'Lossguide', 'min_data_in_leaf': 5, 'max_depth': 6, 'l2_leaf_reg': 8.192644604095651, 'one_hot_max_size': 12, 'auto_class_weights': 'SqrtBalanced'}. Best is trial 12 with value: 0.866324905820586.\n"
     ]
    },
    {
     "name": "stdout",
     "output_type": "stream",
     "text": [
      "\n",
      "bestTest = 0.4278295598\n",
      "bestIteration = 106\n",
      "\n",
      "Training on fold [0/5]\n",
      "\n",
      "bestTest = 0.4386498721\n",
      "bestIteration = 110\n",
      "\n",
      "Training on fold [1/5]\n",
      "\n",
      "bestTest = 0.4227193086\n",
      "bestIteration = 169\n",
      "\n",
      "Training on fold [2/5]\n",
      "\n",
      "bestTest = 0.4398366736\n",
      "bestIteration = 119\n",
      "\n",
      "Training on fold [3/5]\n",
      "\n",
      "bestTest = 0.436894057\n",
      "bestIteration = 124\n",
      "\n",
      "Training on fold [4/5]\n"
     ]
    },
    {
     "name": "stderr",
     "output_type": "stream",
     "text": [
      "[I 2024-02-26 14:02:04,538] Trial 17 finished with value: 0.8585181702991752 and parameters: {'iterations': 500, 'learning_rate': 0.06855844459669191, 'random_strength': 9, 'bagging_temperature': 5, 'max_bin': 30, 'grow_policy': 'SymmetricTree', 'min_data_in_leaf': 7, 'max_depth': 8, 'l2_leaf_reg': 0.04309802701938415, 'one_hot_max_size': 10, 'auto_class_weights': 'SqrtBalanced'}. Best is trial 12 with value: 0.866324905820586.\n"
     ]
    },
    {
     "name": "stdout",
     "output_type": "stream",
     "text": [
      "\n",
      "bestTest = 0.4357410859\n",
      "bestIteration = 140\n",
      "\n",
      "Training on fold [0/5]\n",
      "\n",
      "bestTest = 0.4280134377\n",
      "bestIteration = 95\n",
      "\n",
      "Training on fold [1/5]\n",
      "\n",
      "bestTest = 0.4174074724\n",
      "bestIteration = 153\n",
      "\n",
      "Training on fold [2/5]\n",
      "\n",
      "bestTest = 0.4243526369\n",
      "bestIteration = 196\n",
      "\n",
      "Training on fold [3/5]\n",
      "\n",
      "bestTest = 0.4231237886\n",
      "bestIteration = 140\n",
      "\n",
      "Training on fold [4/5]\n"
     ]
    },
    {
     "name": "stderr",
     "output_type": "stream",
     "text": [
      "[I 2024-02-26 14:02:10,963] Trial 18 finished with value: 0.8659704171010117 and parameters: {'iterations': 200, 'learning_rate': 0.1428649382044176, 'random_strength': 5, 'bagging_temperature': 3, 'max_bin': 4, 'grow_policy': 'SymmetricTree', 'min_data_in_leaf': 10, 'max_depth': 5, 'l2_leaf_reg': 94.5377724321682, 'one_hot_max_size': 500, 'auto_class_weights': 'SqrtBalanced'}. Best is trial 12 with value: 0.866324905820586.\n"
     ]
    },
    {
     "name": "stdout",
     "output_type": "stream",
     "text": [
      "\n",
      "bestTest = 0.4276457646\n",
      "bestIteration = 117\n",
      "\n",
      "Training on fold [0/5]\n",
      "\n",
      "bestTest = 0.4290419487\n",
      "bestIteration = 46\n",
      "\n",
      "Training on fold [1/5]\n",
      "\n",
      "bestTest = 0.4184538609\n",
      "bestIteration = 84\n",
      "\n",
      "Training on fold [2/5]\n",
      "\n",
      "bestTest = 0.426918688\n",
      "bestIteration = 72\n",
      "\n",
      "Training on fold [3/5]\n",
      "\n",
      "bestTest = 0.4261289938\n",
      "bestIteration = 46\n",
      "\n",
      "Training on fold [4/5]\n"
     ]
    },
    {
     "name": "stderr",
     "output_type": "stream",
     "text": [
      "[I 2024-02-26 14:02:13,932] Trial 19 finished with value: 0.863673272474329 and parameters: {'iterations': 200, 'learning_rate': 0.2704787058540193, 'random_strength': 5, 'bagging_temperature': 4, 'max_bin': 8, 'grow_policy': 'SymmetricTree', 'min_data_in_leaf': 4, 'max_depth': 5, 'l2_leaf_reg': 4.1698432574214905, 'one_hot_max_size': 500, 'auto_class_weights': 'SqrtBalanced'}. Best is trial 12 with value: 0.866324905820586.\n"
     ]
    },
    {
     "name": "stdout",
     "output_type": "stream",
     "text": [
      "\n",
      "bestTest = 0.4286807055\n",
      "bestIteration = 55\n",
      "\n",
      "Training on fold [0/5]\n",
      "\n",
      "bestTest = 0.4304925723\n",
      "bestIteration = 84\n",
      "\n",
      "Training on fold [1/5]\n",
      "\n",
      "bestTest = 0.4240789434\n",
      "bestIteration = 83\n",
      "\n",
      "Training on fold [2/5]\n",
      "\n",
      "bestTest = 0.4311752916\n",
      "bestIteration = 120\n",
      "\n",
      "Training on fold [3/5]\n",
      "\n",
      "bestTest = 0.4269289322\n",
      "bestIteration = 91\n",
      "\n",
      "Training on fold [4/5]\n"
     ]
    },
    {
     "name": "stderr",
     "output_type": "stream",
     "text": [
      "[I 2024-02-26 14:02:19,063] Trial 20 finished with value: 0.8619181649334585 and parameters: {'iterations': 200, 'learning_rate': 0.16477524335455324, 'random_strength': 7, 'bagging_temperature': 6, 'max_bin': 30, 'grow_policy': 'Lossguide', 'min_data_in_leaf': 7, 'max_depth': 4, 'l2_leaf_reg': 0.05883851827858753, 'one_hot_max_size': 500, 'auto_class_weights': 'SqrtBalanced'}. Best is trial 12 with value: 0.866324905820586.\n"
     ]
    },
    {
     "name": "stdout",
     "output_type": "stream",
     "text": [
      "\n",
      "bestTest = 0.4304085666\n",
      "bestIteration = 103\n",
      "\n",
      "Training on fold [0/5]\n",
      "\n",
      "bestTest = 0.4236269264\n",
      "bestIteration = 147\n",
      "\n",
      "Training on fold [1/5]\n",
      "\n",
      "bestTest = 0.415054913\n",
      "bestIteration = 160\n",
      "\n",
      "Training on fold [2/5]\n",
      "\n",
      "bestTest = 0.4260904433\n",
      "bestIteration = 152\n",
      "\n",
      "Training on fold [3/5]\n",
      "\n",
      "bestTest = 0.4217506791\n",
      "bestIteration = 131\n",
      "\n",
      "Training on fold [4/5]\n"
     ]
    },
    {
     "name": "stderr",
     "output_type": "stream",
     "text": [
      "[I 2024-02-26 14:02:26,095] Trial 21 finished with value: 0.8669399971382571 and parameters: {'iterations': 200, 'learning_rate': 0.1246391521235465, 'random_strength': 5, 'bagging_temperature': 2, 'max_bin': 4, 'grow_policy': 'SymmetricTree', 'min_data_in_leaf': 10, 'max_depth': 6, 'l2_leaf_reg': 98.74408780310344, 'one_hot_max_size': 500, 'auto_class_weights': 'SqrtBalanced'}. Best is trial 21 with value: 0.8669399971382571.\n"
     ]
    },
    {
     "name": "stdout",
     "output_type": "stream",
     "text": [
      "\n",
      "bestTest = 0.4270946007\n",
      "bestIteration = 175\n",
      "\n",
      "Training on fold [0/5]\n",
      "\n",
      "bestTest = 0.4257976339\n",
      "bestIteration = 114\n",
      "\n",
      "Training on fold [1/5]\n",
      "\n",
      "bestTest = 0.4154031611\n",
      "bestIteration = 182\n",
      "\n",
      "Training on fold [2/5]\n",
      "\n",
      "bestTest = 0.4275816956\n",
      "bestIteration = 134\n",
      "\n",
      "Training on fold [3/5]\n",
      "\n",
      "bestTest = 0.4258255004\n",
      "bestIteration = 116\n",
      "\n",
      "Training on fold [4/5]\n"
     ]
    },
    {
     "name": "stderr",
     "output_type": "stream",
     "text": [
      "[I 2024-02-26 14:02:31,789] Trial 22 finished with value: 0.8660171224160897 and parameters: {'iterations': 200, 'learning_rate': 0.12371860077878587, 'random_strength': 5, 'bagging_temperature': 3, 'max_bin': 4, 'grow_policy': 'SymmetricTree', 'min_data_in_leaf': 9, 'max_depth': 5, 'l2_leaf_reg': 9.130856344033075, 'one_hot_max_size': 500, 'auto_class_weights': 'SqrtBalanced'}. Best is trial 21 with value: 0.8669399971382571.\n"
     ]
    },
    {
     "name": "stdout",
     "output_type": "stream",
     "text": [
      "\n",
      "bestTest = 0.4249238986\n",
      "bestIteration = 153\n",
      "\n",
      "Training on fold [0/5]\n",
      "\n",
      "bestTest = 0.4261765436\n",
      "bestIteration = 109\n",
      "\n",
      "Training on fold [1/5]\n",
      "\n",
      "bestTest = 0.4191414855\n",
      "bestIteration = 138\n",
      "\n",
      "Training on fold [2/5]\n",
      "\n",
      "bestTest = 0.4314279669\n",
      "bestIteration = 110\n",
      "\n",
      "Training on fold [3/5]\n",
      "\n",
      "bestTest = 0.4249741998\n",
      "bestIteration = 108\n",
      "\n",
      "Training on fold [4/5]\n"
     ]
    },
    {
     "name": "stderr",
     "output_type": "stream",
     "text": [
      "[I 2024-02-26 14:02:37,405] Trial 23 finished with value: 0.8645840866912655 and parameters: {'iterations': 200, 'learning_rate': 0.11443544184682664, 'random_strength': 4, 'bagging_temperature': 1, 'max_bin': 4, 'grow_policy': 'SymmetricTree', 'min_data_in_leaf': 9, 'max_depth': 6, 'l2_leaf_reg': 7.416661435052345, 'one_hot_max_size': 500, 'auto_class_weights': 'SqrtBalanced'}. Best is trial 21 with value: 0.8669399971382571.\n"
     ]
    },
    {
     "name": "stdout",
     "output_type": "stream",
     "text": [
      "\n",
      "bestTest = 0.4276617945\n",
      "bestIteration = 141\n",
      "\n",
      "Training on fold [0/5]\n",
      "\n",
      "bestTest = 0.4256674951\n",
      "bestIteration = 165\n",
      "\n",
      "Training on fold [1/5]\n",
      "\n",
      "bestTest = 0.4188647487\n",
      "bestIteration = 162\n",
      "\n",
      "Training on fold [2/5]\n",
      "\n",
      "bestTest = 0.4274880246\n",
      "bestIteration = 188\n",
      "\n",
      "Training on fold [3/5]\n",
      "\n",
      "bestTest = 0.4274263069\n",
      "bestIteration = 134\n",
      "\n",
      "Training on fold [4/5]\n"
     ]
    },
    {
     "name": "stderr",
     "output_type": "stream",
     "text": [
      "[I 2024-02-26 14:02:46,750] Trial 24 finished with value: 0.8648880608948948 and parameters: {'iterations': 200, 'learning_rate': 0.08148687265455554, 'random_strength': 7, 'bagging_temperature': 3, 'max_bin': 20, 'grow_policy': 'SymmetricTree', 'min_data_in_leaf': 8, 'max_depth': 8, 'l2_leaf_reg': 9.19334063025011, 'one_hot_max_size': 500, 'auto_class_weights': 'SqrtBalanced'}. Best is trial 21 with value: 0.8669399971382571.\n"
     ]
    },
    {
     "name": "stdout",
     "output_type": "stream",
     "text": [
      "\n",
      "bestTest = 0.4299363563\n",
      "bestIteration = 158\n",
      "\n",
      "Training on fold [0/5]\n",
      "\n",
      "bestTest = 0.4332547803\n",
      "bestIteration = 149\n",
      "\n",
      "Training on fold [1/5]\n",
      "\n",
      "bestTest = 0.4231836147\n",
      "bestIteration = 181\n",
      "\n",
      "Training on fold [2/5]\n",
      "\n",
      "bestTest = 0.4283598521\n",
      "bestIteration = 199\n",
      "\n",
      "Training on fold [3/5]\n",
      "\n",
      "bestTest = 0.4324097412\n",
      "bestIteration = 140\n",
      "\n",
      "Training on fold [4/5]\n"
     ]
    },
    {
     "name": "stderr",
     "output_type": "stream",
     "text": [
      "[I 2024-02-26 14:02:54,571] Trial 25 finished with value: 0.8620825345068954 and parameters: {'iterations': 200, 'learning_rate': 0.06078148130351414, 'random_strength': 4, 'bagging_temperature': 1, 'max_bin': 5, 'grow_policy': 'SymmetricTree', 'min_data_in_leaf': 8, 'max_depth': 7, 'l2_leaf_reg': 0.28039237417310137, 'one_hot_max_size': 500, 'auto_class_weights': 'SqrtBalanced'}. Best is trial 21 with value: 0.8669399971382571.\n"
     ]
    },
    {
     "name": "stdout",
     "output_type": "stream",
     "text": [
      "\n",
      "bestTest = 0.4330038724\n",
      "bestIteration = 161\n",
      "\n",
      "Training on fold [0/5]\n",
      "\n",
      "bestTest = 0.4268052688\n",
      "bestIteration = 119\n",
      "\n",
      "Training on fold [1/5]\n",
      "\n",
      "bestTest = 0.4203940796\n",
      "bestIteration = 123\n",
      "\n",
      "Training on fold [2/5]\n",
      "\n",
      "bestTest = 0.4246942171\n",
      "bestIteration = 164\n",
      "\n",
      "Training on fold [3/5]\n",
      "\n",
      "bestTest = 0.4247469245\n",
      "bestIteration = 112\n",
      "\n",
      "Training on fold [4/5]\n"
     ]
    },
    {
     "name": "stderr",
     "output_type": "stream",
     "text": [
      "[I 2024-02-26 14:03:00,347] Trial 26 finished with value: 0.865591593946983 and parameters: {'iterations': 500, 'learning_rate': 0.12221562602574196, 'random_strength': 6, 'bagging_temperature': 5, 'max_bin': 8, 'grow_policy': 'SymmetricTree', 'min_data_in_leaf': 9, 'max_depth': 5, 'l2_leaf_reg': 16.26620438578495, 'one_hot_max_size': 500, 'auto_class_weights': 'SqrtBalanced'}. Best is trial 21 with value: 0.8669399971382571.\n"
     ]
    },
    {
     "name": "stdout",
     "output_type": "stream",
     "text": [
      "\n",
      "bestTest = 0.4277277201\n",
      "bestIteration = 120\n",
      "\n",
      "Training on fold [0/5]\n",
      "\n",
      "bestTest = 0.4242463013\n",
      "bestIteration = 188\n",
      "\n",
      "Training on fold [1/5]\n",
      "\n",
      "bestTest = 0.4182181222\n",
      "bestIteration = 154\n",
      "\n",
      "Training on fold [2/5]\n",
      "\n",
      "bestTest = 0.432950409\n",
      "bestIteration = 119\n",
      "\n",
      "Training on fold [3/5]\n",
      "\n",
      "bestTest = 0.4247272995\n",
      "bestIteration = 165\n",
      "\n",
      "Training on fold [4/5]\n"
     ]
    },
    {
     "name": "stderr",
     "output_type": "stream",
     "text": [
      "[I 2024-02-26 14:03:22,716] Trial 27 finished with value: 0.8648715274572863 and parameters: {'iterations': 200, 'learning_rate': 0.16757078202372552, 'random_strength': 8, 'bagging_temperature': 1, 'max_bin': 4, 'grow_policy': 'SymmetricTree', 'min_data_in_leaf': 6, 'max_depth': 3, 'l2_leaf_reg': 2.3486764159395643, 'one_hot_max_size': 12, 'auto_class_weights': 'SqrtBalanced'}. Best is trial 21 with value: 0.8669399971382571.\n"
     ]
    },
    {
     "name": "stdout",
     "output_type": "stream",
     "text": [
      "\n",
      "bestTest = 0.4297587745\n",
      "bestIteration = 125\n",
      "\n",
      "Training on fold [0/5]\n",
      "\n",
      "bestTest = 0.4356435402\n",
      "bestIteration = 199\n",
      "\n",
      "Training on fold [1/5]\n",
      "\n",
      "bestTest = 0.4331356124\n",
      "bestIteration = 199\n",
      "\n",
      "Training on fold [2/5]\n",
      "\n",
      "bestTest = 0.4431731522\n",
      "bestIteration = 199\n",
      "\n",
      "Training on fold [3/5]\n",
      "\n",
      "bestTest = 0.4332435639\n",
      "bestIteration = 199\n",
      "\n",
      "Training on fold [4/5]\n"
     ]
    },
    {
     "name": "stderr",
     "output_type": "stream",
     "text": [
      "[I 2024-02-26 14:03:53,653] Trial 28 finished with value: 0.8595379326822234 and parameters: {'iterations': 200, 'learning_rate': 0.04482924000608464, 'random_strength': 5, 'bagging_temperature': 3, 'max_bin': 4, 'grow_policy': 'SymmetricTree', 'min_data_in_leaf': 1, 'max_depth': 4, 'l2_leaf_reg': 0.012612605184915185, 'one_hot_max_size': 10, 'auto_class_weights': 'SqrtBalanced'}. Best is trial 21 with value: 0.8669399971382571.\n"
     ]
    },
    {
     "name": "stdout",
     "output_type": "stream",
     "text": [
      "\n",
      "bestTest = 0.4406258185\n",
      "bestIteration = 199\n",
      "\n",
      "Training on fold [0/5]\n",
      "\n",
      "bestTest = 0.4684973993\n",
      "bestIteration = 44\n",
      "\n",
      "Training on fold [1/5]\n",
      "\n",
      "bestTest = 0.4576348849\n",
      "bestIteration = 55\n",
      "\n",
      "Training on fold [2/5]\n",
      "\n",
      "bestTest = 0.4644344935\n",
      "bestIteration = 60\n",
      "\n",
      "Training on fold [3/5]\n",
      "\n",
      "bestTest = 0.4675113188\n",
      "bestIteration = 43\n",
      "\n",
      "Training on fold [4/5]\n"
     ]
    },
    {
     "name": "stderr",
     "output_type": "stream",
     "text": [
      "[I 2024-02-26 14:03:57,637] Trial 29 finished with value: 0.8611649873826316 and parameters: {'iterations': 500, 'learning_rate': 0.19049205078871378, 'random_strength': 2, 'bagging_temperature': 5, 'max_bin': 20, 'grow_policy': 'Lossguide', 'min_data_in_leaf': 6, 'max_depth': 6, 'l2_leaf_reg': 0.910029835446109, 'one_hot_max_size': 100, 'auto_class_weights': 'Balanced'}. Best is trial 21 with value: 0.8669399971382571.\n"
     ]
    },
    {
     "name": "stdout",
     "output_type": "stream",
     "text": [
      "\n",
      "bestTest = 0.4665137772\n",
      "bestIteration = 49\n",
      "\n",
      "Training on fold [0/5]\n",
      "\n",
      "bestTest = 0.4413956836\n",
      "bestIteration = 99\n",
      "\n",
      "Training on fold [1/5]\n",
      "\n",
      "bestTest = 0.4399876073\n",
      "bestIteration = 99\n",
      "\n",
      "Training on fold [2/5]\n",
      "\n",
      "bestTest = 0.4473297036\n",
      "bestIteration = 99\n",
      "\n",
      "Training on fold [3/5]\n",
      "\n",
      "bestTest = 0.4377419773\n",
      "bestIteration = 99\n",
      "\n",
      "Training on fold [4/5]\n"
     ]
    },
    {
     "name": "stderr",
     "output_type": "stream",
     "text": [
      "[I 2024-02-26 14:04:00,538] Trial 30 finished with value: 0.8559459807405674 and parameters: {'iterations': 100, 'learning_rate': 0.10297717171128677, 'random_strength': 4, 'bagging_temperature': 4, 'max_bin': 8, 'grow_policy': 'Depthwise', 'min_data_in_leaf': 10, 'max_depth': 2, 'l2_leaf_reg': 1.9264538194663386e-05, 'one_hot_max_size': 500, 'auto_class_weights': 'SqrtBalanced'}. Best is trial 21 with value: 0.8669399971382571.\n"
     ]
    },
    {
     "name": "stdout",
     "output_type": "stream",
     "text": [
      "\n",
      "bestTest = 0.4454785363\n",
      "bestIteration = 98\n",
      "\n",
      "Training on fold [0/5]\n",
      "\n",
      "bestTest = 0.4261620049\n",
      "bestIteration = 147\n",
      "\n",
      "Training on fold [1/5]\n",
      "\n",
      "bestTest = 0.4158117048\n",
      "bestIteration = 189\n",
      "\n",
      "Training on fold [2/5]\n",
      "\n",
      "bestTest = 0.4267223972\n",
      "bestIteration = 156\n",
      "\n",
      "Training on fold [3/5]\n",
      "\n",
      "bestTest = 0.4227699351\n",
      "bestIteration = 150\n",
      "\n",
      "Training on fold [4/5]\n"
     ]
    },
    {
     "name": "stderr",
     "output_type": "stream",
     "text": [
      "[I 2024-02-26 14:04:07,113] Trial 31 finished with value: 0.8663973655207989 and parameters: {'iterations': 200, 'learning_rate': 0.13121454632329926, 'random_strength': 5, 'bagging_temperature': 3, 'max_bin': 4, 'grow_policy': 'SymmetricTree', 'min_data_in_leaf': 10, 'max_depth': 5, 'l2_leaf_reg': 90.70957027546257, 'one_hot_max_size': 500, 'auto_class_weights': 'SqrtBalanced'}. Best is trial 21 with value: 0.8669399971382571.\n"
     ]
    },
    {
     "name": "stdout",
     "output_type": "stream",
     "text": [
      "\n",
      "bestTest = 0.4270214434\n",
      "bestIteration = 158\n",
      "\n",
      "Training on fold [0/5]\n",
      "\n",
      "bestTest = 0.4285225135\n",
      "bestIteration = 111\n",
      "\n",
      "Training on fold [1/5]\n",
      "\n",
      "bestTest = 0.4173142007\n",
      "bestIteration = 164\n",
      "\n",
      "Training on fold [2/5]\n",
      "\n",
      "bestTest = 0.4273509681\n",
      "bestIteration = 129\n",
      "\n",
      "Training on fold [3/5]\n",
      "\n",
      "bestTest = 0.4254913679\n",
      "bestIteration = 132\n",
      "\n",
      "Training on fold [4/5]\n"
     ]
    },
    {
     "name": "stderr",
     "output_type": "stream",
     "text": [
      "[I 2024-02-26 14:04:12,949] Trial 32 finished with value: 0.8650723671923837 and parameters: {'iterations': 200, 'learning_rate': 0.12755982868569063, 'random_strength': 5, 'bagging_temperature': 3, 'max_bin': 4, 'grow_policy': 'SymmetricTree', 'min_data_in_leaf': 10, 'max_depth': 5, 'l2_leaf_reg': 20.899560661140235, 'one_hot_max_size': 500, 'auto_class_weights': 'SqrtBalanced'}. Best is trial 21 with value: 0.8669399971382571.\n"
     ]
    },
    {
     "name": "stdout",
     "output_type": "stream",
     "text": [
      "\n",
      "bestTest = 0.4282305552\n",
      "bestIteration = 116\n",
      "\n",
      "Training on fold [0/5]\n",
      "\n",
      "bestTest = 0.430322603\n",
      "bestIteration = 91\n",
      "\n",
      "Training on fold [1/5]\n",
      "\n",
      "bestTest = 0.4150582751\n",
      "bestIteration = 123\n",
      "\n",
      "Training on fold [2/5]\n",
      "\n",
      "bestTest = 0.4287093981\n",
      "bestIteration = 96\n",
      "\n",
      "Training on fold [3/5]\n",
      "\n",
      "bestTest = 0.4249535156\n",
      "bestIteration = 98\n",
      "\n",
      "Training on fold [4/5]\n"
     ]
    },
    {
     "name": "stderr",
     "output_type": "stream",
     "text": [
      "[I 2024-02-26 14:04:19,068] Trial 33 finished with value: 0.8650645254863928 and parameters: {'iterations': 200, 'learning_rate': 0.1615074771640458, 'random_strength': 6, 'bagging_temperature': 1, 'max_bin': 4, 'grow_policy': 'SymmetricTree', 'min_data_in_leaf': 9, 'max_depth': 7, 'l2_leaf_reg': 95.36830862895657, 'one_hot_max_size': 500, 'auto_class_weights': 'SqrtBalanced'}. Best is trial 21 with value: 0.8669399971382571.\n"
     ]
    },
    {
     "name": "stdout",
     "output_type": "stream",
     "text": [
      "\n",
      "bestTest = 0.4285781385\n",
      "bestIteration = 102\n",
      "\n",
      "Training on fold [0/5]\n",
      "\n",
      "bestTest = 0.428993308\n",
      "bestIteration = 136\n",
      "\n",
      "Training on fold [1/5]\n",
      "\n",
      "bestTest = 0.418773329\n",
      "bestIteration = 193\n",
      "\n",
      "Training on fold [2/5]\n",
      "\n",
      "bestTest = 0.4292464672\n",
      "bestIteration = 166\n",
      "\n",
      "Training on fold [3/5]\n",
      "\n",
      "bestTest = 0.4240007268\n",
      "bestIteration = 198\n",
      "\n",
      "Training on fold [4/5]\n"
     ]
    },
    {
     "name": "stderr",
     "output_type": "stream",
     "text": [
      "[I 2024-02-26 14:04:26,009] Trial 34 finished with value: 0.8650587896412738 and parameters: {'iterations': 200, 'learning_rate': 0.10625073506347418, 'random_strength': 7, 'bagging_temperature': 2, 'max_bin': 4, 'grow_policy': 'SymmetricTree', 'min_data_in_leaf': 8, 'max_depth': 4, 'l2_leaf_reg': 14.176949272769525, 'one_hot_max_size': 500, 'auto_class_weights': 'SqrtBalanced'}. Best is trial 21 with value: 0.8669399971382571.\n"
     ]
    },
    {
     "name": "stdout",
     "output_type": "stream",
     "text": [
      "\n",
      "bestTest = 0.4284491261\n",
      "bestIteration = 172\n",
      "\n",
      "Training on fold [0/5]\n",
      "\n",
      "bestTest = 0.4367981468\n",
      "bestIteration = 47\n",
      "\n",
      "Training on fold [1/5]\n",
      "\n",
      "bestTest = 0.4292588856\n",
      "bestIteration = 51\n",
      "\n",
      "Training on fold [2/5]\n",
      "\n",
      "bestTest = 0.4329737207\n",
      "bestIteration = 59\n",
      "\n",
      "Training on fold [3/5]\n",
      "\n",
      "bestTest = 0.4286261026\n",
      "bestIteration = 48\n",
      "\n",
      "Training on fold [4/5]\n"
     ]
    },
    {
     "name": "stderr",
     "output_type": "stream",
     "text": [
      "[I 2024-02-26 14:04:41,064] Trial 35 finished with value: 0.8581513670251061 and parameters: {'iterations': 200, 'learning_rate': 0.19592089988526717, 'random_strength': 5, 'bagging_temperature': 4, 'max_bin': 4, 'grow_policy': 'Depthwise', 'min_data_in_leaf': 9, 'max_depth': 7, 'l2_leaf_reg': 0.22030938137443506, 'one_hot_max_size': 10, 'auto_class_weights': 'SqrtBalanced'}. Best is trial 21 with value: 0.8669399971382571.\n"
     ]
    },
    {
     "name": "stdout",
     "output_type": "stream",
     "text": [
      "\n",
      "bestTest = 0.4425188089\n",
      "bestIteration = 29\n",
      "\n",
      "Training on fold [0/5]\n",
      "\n",
      "bestTest = 0.4586576078\n",
      "bestIteration = 158\n",
      "\n",
      "Training on fold [1/5]\n",
      "\n",
      "bestTest = 0.4533229613\n",
      "bestIteration = 106\n",
      "\n",
      "Training on fold [2/5]\n",
      "\n",
      "bestTest = 0.4577107998\n",
      "bestIteration = 165\n",
      "\n",
      "Training on fold [3/5]\n",
      "\n",
      "bestTest = 0.4595260249\n",
      "bestIteration = 98\n",
      "\n",
      "Training on fold [4/5]\n"
     ]
    },
    {
     "name": "stderr",
     "output_type": "stream",
     "text": [
      "[I 2024-02-26 14:04:58,907] Trial 36 finished with value: 0.8648096112949657 and parameters: {'iterations': 200, 'learning_rate': 0.2134155871107753, 'random_strength': 6, 'bagging_temperature': 3, 'max_bin': 30, 'grow_policy': 'SymmetricTree', 'min_data_in_leaf': 4, 'max_depth': 3, 'l2_leaf_reg': 3.1426146965303428, 'one_hot_max_size': 5, 'auto_class_weights': 'Balanced'}. Best is trial 21 with value: 0.8669399971382571.\n"
     ]
    },
    {
     "name": "stdout",
     "output_type": "stream",
     "text": [
      "\n",
      "bestTest = 0.4628861783\n",
      "bestIteration = 99\n",
      "\n",
      "Training on fold [0/5]\n",
      "\n",
      "bestTest = 0.4256960348\n",
      "bestIteration = 67\n",
      "\n",
      "Training on fold [1/5]\n",
      "\n",
      "bestTest = 0.4128348833\n",
      "bestIteration = 98\n",
      "\n",
      "Training on fold [2/5]\n",
      "\n",
      "bestTest = 0.4288269782\n",
      "bestIteration = 97\n",
      "\n",
      "Training on fold [3/5]\n",
      "\n",
      "bestTest = 0.4231713238\n",
      "bestIteration = 78\n",
      "\n",
      "Training on fold [4/5]\n"
     ]
    },
    {
     "name": "stderr",
     "output_type": "stream",
     "text": [
      "[I 2024-02-26 14:05:04,301] Trial 37 finished with value: 0.8655864021493057 and parameters: {'iterations': 100, 'learning_rate': 0.17813330551479342, 'random_strength': 3, 'bagging_temperature': 7, 'max_bin': 5, 'grow_policy': 'SymmetricTree', 'min_data_in_leaf': 9, 'max_depth': 6, 'l2_leaf_reg': 32.55570582736985, 'one_hot_max_size': 1024, 'auto_class_weights': 'SqrtBalanced'}. Best is trial 21 with value: 0.8669399971382571.\n"
     ]
    },
    {
     "name": "stdout",
     "output_type": "stream",
     "text": [
      "\n",
      "bestTest = 0.4305253162\n",
      "bestIteration = 73\n",
      "\n",
      "Training on fold [0/5]\n",
      "\n",
      "bestTest = 0.4440013212\n",
      "bestIteration = 71\n",
      "\n",
      "Training on fold [1/5]\n",
      "\n",
      "bestTest = 0.4402358747\n",
      "bestIteration = 81\n",
      "\n",
      "Training on fold [2/5]\n",
      "\n",
      "bestTest = 0.4321556769\n",
      "bestIteration = 153\n",
      "\n",
      "Training on fold [3/5]\n",
      "\n",
      "bestTest = 0.441412297\n",
      "bestIteration = 91\n",
      "\n",
      "Training on fold [4/5]\n"
     ]
    },
    {
     "name": "stderr",
     "output_type": "stream",
     "text": [
      "[I 2024-02-26 14:05:12,246] Trial 38 finished with value: 0.8550585537062618 and parameters: {'iterations': 500, 'learning_rate': 0.08710293002036963, 'random_strength': 8, 'bagging_temperature': 10, 'max_bin': 20, 'grow_policy': 'Depthwise', 'min_data_in_leaf': 10, 'max_depth': 6, 'l2_leaf_reg': 8.603340785839207e-05, 'one_hot_max_size': 500, 'auto_class_weights': 'SqrtBalanced'}. Best is trial 21 with value: 0.8669399971382571.\n"
     ]
    },
    {
     "name": "stdout",
     "output_type": "stream",
     "text": [
      "\n",
      "bestTest = 0.4421236243\n",
      "bestIteration = 97\n",
      "\n",
      "Training on fold [0/5]\n",
      "\n",
      "bestTest = 0.46985556\n",
      "bestIteration = 58\n",
      "\n",
      "Training on fold [1/5]\n",
      "\n",
      "bestTest = 0.4615955309\n",
      "bestIteration = 107\n",
      "\n",
      "Training on fold [2/5]\n",
      "\n",
      "bestTest = 0.4645542186\n",
      "bestIteration = 112\n",
      "\n",
      "Training on fold [3/5]\n",
      "\n",
      "bestTest = 0.4652085607\n",
      "bestIteration = 95\n",
      "\n",
      "Training on fold [4/5]\n"
     ]
    },
    {
     "name": "stderr",
     "output_type": "stream",
     "text": [
      "[I 2024-02-26 14:05:33,357] Trial 39 finished with value: 0.8594655803094735 and parameters: {'iterations': 300, 'learning_rate': 0.13107446874134232, 'random_strength': 2, 'bagging_temperature': 0, 'max_bin': 6, 'grow_policy': 'SymmetricTree', 'min_data_in_leaf': 5, 'max_depth': 5, 'l2_leaf_reg': 1.0492909004829047e-07, 'one_hot_max_size': 5, 'auto_class_weights': 'Balanced'}. Best is trial 21 with value: 0.8669399971382571.\n"
     ]
    },
    {
     "name": "stdout",
     "output_type": "stream",
     "text": [
      "\n",
      "bestTest = 0.471676819\n",
      "bestIteration = 68\n",
      "\n",
      "Training on fold [0/5]\n",
      "\n",
      "bestTest = 0.4280215535\n",
      "bestIteration = 96\n",
      "\n",
      "Training on fold [1/5]\n",
      "\n",
      "bestTest = 0.4157831821\n",
      "bestIteration = 147\n",
      "\n",
      "Training on fold [2/5]\n",
      "\n",
      "bestTest = 0.4299882646\n",
      "bestIteration = 122\n",
      "\n",
      "Training on fold [3/5]\n",
      "\n",
      "bestTest = 0.4280917553\n",
      "bestIteration = 87\n",
      "\n",
      "Training on fold [4/5]\n"
     ]
    },
    {
     "name": "stderr",
     "output_type": "stream",
     "text": [
      "[I 2024-02-26 14:05:38,133] Trial 40 finished with value: 0.8649568602278668 and parameters: {'iterations': 200, 'learning_rate': 0.15313130893701643, 'random_strength': 4, 'bagging_temperature': 5, 'max_bin': 4, 'grow_policy': 'SymmetricTree', 'min_data_in_leaf': 7, 'max_depth': 4, 'l2_leaf_reg': 31.427994640250187, 'one_hot_max_size': 100, 'auto_class_weights': 'SqrtBalanced'}. Best is trial 21 with value: 0.8669399971382571.\n"
     ]
    },
    {
     "name": "stdout",
     "output_type": "stream",
     "text": [
      "\n",
      "bestTest = 0.4286438133\n",
      "bestIteration = 123\n",
      "\n",
      "Training on fold [0/5]\n",
      "\n",
      "bestTest = 0.4274676045\n",
      "bestIteration = 124\n",
      "\n",
      "Training on fold [1/5]\n",
      "\n",
      "bestTest = 0.4176713913\n",
      "bestIteration = 150\n",
      "\n",
      "Training on fold [2/5]\n",
      "\n",
      "bestTest = 0.4264589465\n",
      "bestIteration = 143\n",
      "\n",
      "Training on fold [3/5]\n",
      "\n",
      "bestTest = 0.4242174537\n",
      "bestIteration = 128\n",
      "\n",
      "Training on fold [4/5]\n"
     ]
    },
    {
     "name": "stderr",
     "output_type": "stream",
     "text": [
      "[I 2024-02-26 14:05:44,327] Trial 41 finished with value: 0.8659224366600284 and parameters: {'iterations': 200, 'learning_rate': 0.13972188336831848, 'random_strength': 5, 'bagging_temperature': 3, 'max_bin': 4, 'grow_policy': 'SymmetricTree', 'min_data_in_leaf': 10, 'max_depth': 5, 'l2_leaf_reg': 81.67067246502101, 'one_hot_max_size': 500, 'auto_class_weights': 'SqrtBalanced'}. Best is trial 21 with value: 0.8669399971382571.\n"
     ]
    },
    {
     "name": "stdout",
     "output_type": "stream",
     "text": [
      "\n",
      "bestTest = 0.4259489885\n",
      "bestIteration = 131\n",
      "\n",
      "Training on fold [0/5]\n",
      "\n",
      "bestTest = 0.4254924759\n",
      "bestIteration = 97\n",
      "\n",
      "Training on fold [1/5]\n",
      "\n",
      "bestTest = 0.415880237\n",
      "bestIteration = 109\n",
      "\n",
      "Training on fold [2/5]\n",
      "\n",
      "bestTest = 0.4297887069\n",
      "bestIteration = 78\n",
      "\n",
      "Training on fold [3/5]\n",
      "\n",
      "bestTest = 0.4216559945\n",
      "bestIteration = 97\n",
      "\n",
      "Training on fold [4/5]\n"
     ]
    },
    {
     "name": "stderr",
     "output_type": "stream",
     "text": [
      "[I 2024-02-26 14:05:49,680] Trial 42 finished with value: 0.8660055671405947 and parameters: {'iterations': 200, 'learning_rate': 0.175925803929086, 'random_strength': 5, 'bagging_temperature': 4, 'max_bin': 4, 'grow_policy': 'SymmetricTree', 'min_data_in_leaf': 10, 'max_depth': 7, 'l2_leaf_reg': 88.28669527425349, 'one_hot_max_size': 500, 'auto_class_weights': 'SqrtBalanced'}. Best is trial 21 with value: 0.8669399971382571.\n"
     ]
    },
    {
     "name": "stdout",
     "output_type": "stream",
     "text": [
      "\n",
      "bestTest = 0.4273183583\n",
      "bestIteration = 94\n",
      "\n",
      "Training on fold [0/5]\n",
      "\n",
      "bestTest = 0.4304573397\n",
      "bestIteration = 56\n",
      "\n",
      "Training on fold [1/5]\n",
      "\n",
      "bestTest = 0.4159497282\n",
      "bestIteration = 86\n",
      "\n",
      "Training on fold [2/5]\n",
      "\n",
      "bestTest = 0.4316146673\n",
      "bestIteration = 62\n",
      "\n",
      "Training on fold [3/5]\n",
      "\n",
      "bestTest = 0.4266598973\n",
      "bestIteration = 61\n",
      "\n",
      "Training on fold [4/5]\n"
     ]
    },
    {
     "name": "stderr",
     "output_type": "stream",
     "text": [
      "[I 2024-02-26 14:05:53,831] Trial 43 finished with value: 0.8642226362931165 and parameters: {'iterations': 200, 'learning_rate': 0.21312783800245833, 'random_strength': 6, 'bagging_temperature': 4, 'max_bin': 4, 'grow_policy': 'SymmetricTree', 'min_data_in_leaf': 9, 'max_depth': 7, 'l2_leaf_reg': 16.795175993587083, 'one_hot_max_size': 500, 'auto_class_weights': 'SqrtBalanced'}. Best is trial 21 with value: 0.8669399971382571.\n"
     ]
    },
    {
     "name": "stdout",
     "output_type": "stream",
     "text": [
      "\n",
      "bestTest = 0.427155609\n",
      "bestIteration = 75\n",
      "\n",
      "Training on fold [0/5]\n",
      "\n",
      "bestTest = 0.4327277534\n",
      "bestIteration = 51\n",
      "\n",
      "Training on fold [1/5]\n",
      "\n",
      "bestTest = 0.4173129683\n",
      "bestIteration = 79\n",
      "\n",
      "Training on fold [2/5]\n",
      "\n",
      "bestTest = 0.4315102913\n",
      "bestIteration = 72\n",
      "\n",
      "Training on fold [3/5]\n",
      "\n",
      "bestTest = 0.4311801425\n",
      "bestIteration = 55\n",
      "\n",
      "Training on fold [4/5]\n"
     ]
    },
    {
     "name": "stderr",
     "output_type": "stream",
     "text": [
      "[I 2024-02-26 14:05:57,611] Trial 44 finished with value: 0.8619692491130776 and parameters: {'iterations': 100, 'learning_rate': 0.17730288773432817, 'random_strength': 4, 'bagging_temperature': 2, 'max_bin': 4, 'grow_policy': 'SymmetricTree', 'min_data_in_leaf': 8, 'max_depth': 7, 'l2_leaf_reg': 3.77737915123788, 'one_hot_max_size': 500, 'auto_class_weights': 'SqrtBalanced'}. Best is trial 21 with value: 0.8669399971382571.\n"
     ]
    },
    {
     "name": "stdout",
     "output_type": "stream",
     "text": [
      "\n",
      "bestTest = 0.4307872927\n",
      "bestIteration = 60\n",
      "\n",
      "Training on fold [0/5]\n",
      "\n",
      "bestTest = 0.4618954304\n",
      "bestIteration = 145\n",
      "\n",
      "Training on fold [1/5]\n",
      "\n",
      "bestTest = 0.4505839611\n",
      "bestIteration = 134\n",
      "\n",
      "Training on fold [2/5]\n",
      "\n",
      "bestTest = 0.4588642107\n",
      "bestIteration = 150\n",
      "\n",
      "Training on fold [3/5]\n",
      "\n",
      "bestTest = 0.4583491188\n",
      "bestIteration = 147\n",
      "\n",
      "Training on fold [4/5]\n"
     ]
    },
    {
     "name": "stderr",
     "output_type": "stream",
     "text": [
      "[I 2024-02-26 14:06:06,483] Trial 45 finished with value: 0.865230483706096 and parameters: {'iterations': 200, 'learning_rate': 0.09340948963727226, 'random_strength': 7, 'bagging_temperature': 4, 'max_bin': 8, 'grow_policy': 'SymmetricTree', 'min_data_in_leaf': 10, 'max_depth': 8, 'l2_leaf_reg': 32.06695044038316, 'one_hot_max_size': 1024, 'auto_class_weights': 'Balanced'}. Best is trial 21 with value: 0.8669399971382571.\n"
     ]
    },
    {
     "name": "stdout",
     "output_type": "stream",
     "text": [
      "\n",
      "bestTest = 0.4646608878\n",
      "bestIteration = 149\n",
      "\n",
      "Training on fold [0/5]\n",
      "\n",
      "bestTest = 0.4271405699\n",
      "bestIteration = 118\n",
      "\n",
      "Training on fold [1/5]\n",
      "\n",
      "bestTest = 0.4207388744\n",
      "bestIteration = 119\n",
      "\n",
      "Training on fold [2/5]\n",
      "\n",
      "bestTest = 0.4290395879\n",
      "bestIteration = 130\n",
      "\n",
      "Training on fold [3/5]\n",
      "\n",
      "bestTest = 0.4252528619\n",
      "bestIteration = 111\n",
      "\n",
      "Training on fold [4/5]\n"
     ]
    },
    {
     "name": "stderr",
     "output_type": "stream",
     "text": [
      "[I 2024-02-26 14:07:58,544] Trial 46 finished with value: 0.8645511242644888 and parameters: {'iterations': 300, 'learning_rate': 0.11312430472348896, 'random_strength': 5, 'bagging_temperature': 2, 'max_bin': 6, 'grow_policy': 'Lossguide', 'min_data_in_leaf': 9, 'max_depth': 9, 'l2_leaf_reg': 0.6791685473591422, 'one_hot_max_size': 12, 'auto_class_weights': 'SqrtBalanced'}. Best is trial 21 with value: 0.8669399971382571.\n"
     ]
    },
    {
     "name": "stdout",
     "output_type": "stream",
     "text": [
      "\n",
      "bestTest = 0.4284211232\n",
      "bestIteration = 105\n",
      "\n",
      "Training on fold [0/5]\n",
      "\n",
      "bestTest = 0.4260424882\n",
      "bestIteration = 70\n",
      "\n",
      "Training on fold [1/5]\n",
      "\n",
      "bestTest = 0.419497852\n",
      "bestIteration = 87\n",
      "\n",
      "Training on fold [2/5]\n",
      "\n",
      "bestTest = 0.4255970252\n",
      "bestIteration = 124\n",
      "\n",
      "Training on fold [3/5]\n",
      "\n",
      "bestTest = 0.4269969222\n",
      "bestIteration = 89\n",
      "\n",
      "Training on fold [4/5]\n"
     ]
    },
    {
     "name": "stderr",
     "output_type": "stream",
     "text": [
      "[I 2024-02-26 14:08:04,033] Trial 47 finished with value: 0.8650549772492517 and parameters: {'iterations': 500, 'learning_rate': 0.16095457778379912, 'random_strength': 3, 'bagging_temperature': 3, 'max_bin': 10, 'grow_policy': 'Depthwise', 'min_data_in_leaf': 10, 'max_depth': 6, 'l2_leaf_reg': 91.03302216771004, 'one_hot_max_size': 500, 'auto_class_weights': 'SqrtBalanced'}. Best is trial 21 with value: 0.8669399971382571.\n"
     ]
    },
    {
     "name": "stdout",
     "output_type": "stream",
     "text": [
      "\n",
      "bestTest = 0.428568779\n",
      "bestIteration = 78\n",
      "\n",
      "Training on fold [0/5]\n",
      "\n",
      "bestTest = 0.4263290386\n",
      "bestIteration = 66\n",
      "\n",
      "Training on fold [1/5]\n",
      "\n",
      "bestTest = 0.4248061877\n",
      "bestIteration = 54\n",
      "\n",
      "Training on fold [2/5]\n",
      "\n",
      "bestTest = 0.4336026017\n",
      "bestIteration = 57\n",
      "\n",
      "Training on fold [3/5]\n",
      "\n",
      "bestTest = 0.4239843759\n",
      "bestIteration = 63\n",
      "\n",
      "Training on fold [4/5]\n"
     ]
    },
    {
     "name": "stderr",
     "output_type": "stream",
     "text": [
      "[I 2024-02-26 14:08:07,268] Trial 48 finished with value: 0.8632170493862625 and parameters: {'iterations': 200, 'learning_rate': 0.2401907806169844, 'random_strength': 6, 'bagging_temperature': 4, 'max_bin': 4, 'grow_policy': 'SymmetricTree', 'min_data_in_leaf': 3, 'max_depth': 6, 'l2_leaf_reg': 6.0976489559754405, 'one_hot_max_size': 1024, 'auto_class_weights': 'SqrtBalanced'}. Best is trial 21 with value: 0.8669399971382571.\n"
     ]
    },
    {
     "name": "stdout",
     "output_type": "stream",
     "text": [
      "\n",
      "bestTest = 0.4264545603\n",
      "bestIteration = 78\n",
      "\n",
      "Training on fold [0/5]\n",
      "\n",
      "bestTest = 0.4673701961\n",
      "bestIteration = 13\n",
      "\n",
      "Training on fold [1/5]\n",
      "\n",
      "bestTest = 0.4427240848\n",
      "bestIteration = 35\n",
      "\n",
      "Training on fold [2/5]\n",
      "\n",
      "bestTest = 0.4643427813\n",
      "bestIteration = 25\n",
      "\n",
      "Training on fold [3/5]\n",
      "\n",
      "bestTest = 0.461193663\n",
      "bestIteration = 25\n",
      "\n",
      "Training on fold [4/5]\n"
     ]
    },
    {
     "name": "stderr",
     "output_type": "stream",
     "text": [
      "[I 2024-02-26 14:08:17,805] Trial 49 finished with value: 0.8378576028941186 and parameters: {'iterations': 200, 'learning_rate': 0.14909250341808436, 'random_strength': 5, 'bagging_temperature': 1, 'max_bin': 8, 'grow_policy': 'SymmetricTree', 'min_data_in_leaf': 8, 'max_depth': 9, 'l2_leaf_reg': 3.0517718077714095e-06, 'one_hot_max_size': 5, 'auto_class_weights': 'SqrtBalanced'}. Best is trial 21 with value: 0.8669399971382571.\n"
     ]
    },
    {
     "name": "stdout",
     "output_type": "stream",
     "text": [
      "\n",
      "bestTest = 0.4623568212\n",
      "bestIteration = 15\n",
      "\n",
      "Training on fold [0/5]\n",
      "\n",
      "bestTest = 0.4611948511\n",
      "bestIteration = 109\n",
      "\n",
      "Training on fold [1/5]\n",
      "\n",
      "bestTest = 0.4509999167\n",
      "bestIteration = 113\n",
      "\n",
      "Training on fold [2/5]\n",
      "\n",
      "bestTest = 0.463215386\n",
      "bestIteration = 121\n",
      "\n",
      "Training on fold [3/5]\n",
      "\n",
      "bestTest = 0.4609036009\n",
      "bestIteration = 116\n",
      "\n",
      "Training on fold [4/5]\n"
     ]
    },
    {
     "name": "stderr",
     "output_type": "stream",
     "text": [
      "[I 2024-02-26 14:08:22,615] Trial 50 finished with value: 0.8644489545699467 and parameters: {'iterations': 500, 'learning_rate': 0.1278600139495357, 'random_strength': 4, 'bagging_temperature': 2, 'max_bin': 4, 'grow_policy': 'SymmetricTree', 'min_data_in_leaf': 10, 'max_depth': 5, 'l2_leaf_reg': 1.2454324515579678, 'one_hot_max_size': 100, 'auto_class_weights': 'Balanced'}. Best is trial 21 with value: 0.8669399971382571.\n"
     ]
    },
    {
     "name": "stdout",
     "output_type": "stream",
     "text": [
      "\n",
      "bestTest = 0.4615306472\n",
      "bestIteration = 118\n",
      "\n",
      "Training on fold [0/5]\n",
      "\n",
      "bestTest = 0.4268149768\n",
      "bestIteration = 97\n",
      "\n",
      "Training on fold [1/5]\n",
      "\n",
      "bestTest = 0.4184454396\n",
      "bestIteration = 137\n",
      "\n",
      "Training on fold [2/5]\n",
      "\n",
      "bestTest = 0.4274133028\n",
      "bestIteration = 122\n",
      "\n",
      "Training on fold [3/5]\n",
      "\n",
      "bestTest = 0.4237991921\n",
      "bestIteration = 107\n",
      "\n",
      "Training on fold [4/5]\n"
     ]
    },
    {
     "name": "stderr",
     "output_type": "stream",
     "text": [
      "[I 2024-02-26 14:08:28,051] Trial 51 finished with value: 0.86576073476238 and parameters: {'iterations': 200, 'learning_rate': 0.13282527034297514, 'random_strength': 5, 'bagging_temperature': 3, 'max_bin': 4, 'grow_policy': 'SymmetricTree', 'min_data_in_leaf': 10, 'max_depth': 5, 'l2_leaf_reg': 37.202537258833324, 'one_hot_max_size': 500, 'auto_class_weights': 'SqrtBalanced'}. Best is trial 21 with value: 0.8669399971382571.\n"
     ]
    },
    {
     "name": "stdout",
     "output_type": "stream",
     "text": [
      "\n",
      "bestTest = 0.4273398463\n",
      "bestIteration = 128\n",
      "\n",
      "Training on fold [0/5]\n",
      "\n",
      "bestTest = 0.4237840305\n",
      "bestIteration = 106\n",
      "\n",
      "Training on fold [1/5]\n",
      "\n",
      "bestTest = 0.4187750182\n",
      "bestIteration = 92\n",
      "\n",
      "Training on fold [2/5]\n",
      "\n",
      "bestTest = 0.4239198276\n",
      "bestIteration = 91\n",
      "\n",
      "Training on fold [3/5]\n",
      "\n",
      "bestTest = 0.4239103295\n",
      "bestIteration = 81\n",
      "\n",
      "Training on fold [4/5]\n"
     ]
    },
    {
     "name": "stderr",
     "output_type": "stream",
     "text": [
      "[I 2024-02-26 14:08:32,658] Trial 52 finished with value: 0.8662561074373241 and parameters: {'iterations': 200, 'learning_rate': 0.18111567908365658, 'random_strength': 6, 'bagging_temperature': 9, 'max_bin': 4, 'grow_policy': 'SymmetricTree', 'min_data_in_leaf': 9, 'max_depth': 6, 'l2_leaf_reg': 66.46465698743988, 'one_hot_max_size': 500, 'auto_class_weights': 'SqrtBalanced'}. Best is trial 21 with value: 0.8669399971382571.\n"
     ]
    },
    {
     "name": "stdout",
     "output_type": "stream",
     "text": [
      "\n",
      "bestTest = 0.4276047243\n",
      "bestIteration = 91\n",
      "\n",
      "Training on fold [0/5]\n",
      "\n",
      "bestTest = 0.4282387906\n",
      "bestIteration = 64\n",
      "\n",
      "Training on fold [1/5]\n",
      "\n",
      "bestTest = 0.4169041848\n",
      "bestIteration = 101\n",
      "\n",
      "Training on fold [2/5]\n",
      "\n",
      "bestTest = 0.4293326824\n",
      "bestIteration = 64\n",
      "\n",
      "Training on fold [3/5]\n",
      "\n",
      "bestTest = 0.425037485\n",
      "bestIteration = 72\n",
      "\n",
      "Training on fold [4/5]\n"
     ]
    },
    {
     "name": "stderr",
     "output_type": "stream",
     "text": [
      "[I 2024-02-26 14:08:36,706] Trial 53 finished with value: 0.8648812634766122 and parameters: {'iterations': 200, 'learning_rate': 0.20832456073634512, 'random_strength': 6, 'bagging_temperature': 9, 'max_bin': 4, 'grow_policy': 'SymmetricTree', 'min_data_in_leaf': 9, 'max_depth': 6, 'l2_leaf_reg': 12.498117013585823, 'one_hot_max_size': 500, 'auto_class_weights': 'SqrtBalanced'}. Best is trial 21 with value: 0.8669399971382571.\n"
     ]
    },
    {
     "name": "stdout",
     "output_type": "stream",
     "text": [
      "\n",
      "bestTest = 0.426660366\n",
      "bestIteration = 67\n",
      "\n",
      "Training on fold [0/5]\n",
      "\n",
      "bestTest = 0.4282572349\n",
      "bestIteration = 59\n",
      "\n",
      "Training on fold [1/5]\n",
      "\n",
      "bestTest = 0.4190848939\n",
      "bestIteration = 78\n",
      "\n",
      "Training on fold [2/5]\n",
      "\n",
      "bestTest = 0.4314417699\n",
      "bestIteration = 71\n",
      "\n",
      "Training on fold [3/5]\n",
      "\n",
      "bestTest = 0.4259890662\n",
      "bestIteration = 55\n",
      "\n",
      "Training on fold [4/5]\n"
     ]
    },
    {
     "name": "stderr",
     "output_type": "stream",
     "text": [
      "[I 2024-02-26 14:08:40,589] Trial 54 finished with value: 0.8641416001035314 and parameters: {'iterations': 200, 'learning_rate': 0.2273637048940149, 'random_strength': 9, 'bagging_temperature': 7, 'max_bin': 4, 'grow_policy': 'SymmetricTree', 'min_data_in_leaf': 9, 'max_depth': 7, 'l2_leaf_reg': 41.432597873088724, 'one_hot_max_size': 500, 'auto_class_weights': 'SqrtBalanced'}. Best is trial 21 with value: 0.8669399971382571.\n"
     ]
    },
    {
     "name": "stdout",
     "output_type": "stream",
     "text": [
      "\n",
      "bestTest = 0.428854191\n",
      "bestIteration = 57\n",
      "\n",
      "Training on fold [0/5]\n",
      "\n",
      "bestTest = 0.425108925\n",
      "bestIteration = 75\n",
      "\n",
      "Training on fold [1/5]\n",
      "\n",
      "bestTest = 0.4197020935\n",
      "bestIteration = 82\n",
      "\n",
      "Training on fold [2/5]\n",
      "\n",
      "bestTest = 0.4307573441\n",
      "bestIteration = 76\n",
      "\n",
      "Training on fold [3/5]\n",
      "\n",
      "bestTest = 0.4241655229\n",
      "bestIteration = 67\n",
      "\n",
      "Training on fold [4/5]\n"
     ]
    },
    {
     "name": "stderr",
     "output_type": "stream",
     "text": [
      "[I 2024-02-26 14:08:44,714] Trial 55 finished with value: 0.8650199589632432 and parameters: {'iterations': 300, 'learning_rate': 0.18372580994857435, 'random_strength': 7, 'bagging_temperature': 8, 'max_bin': 30, 'grow_policy': 'SymmetricTree', 'min_data_in_leaf': 4, 'max_depth': 6, 'l2_leaf_reg': 8.094475256113478, 'one_hot_max_size': 1024, 'auto_class_weights': 'SqrtBalanced'}. Best is trial 21 with value: 0.8669399971382571.\n"
     ]
    },
    {
     "name": "stdout",
     "output_type": "stream",
     "text": [
      "\n",
      "bestTest = 0.4287382851\n",
      "bestIteration = 80\n",
      "\n",
      "Training on fold [0/5]\n",
      "\n",
      "bestTest = 0.4286399727\n",
      "bestIteration = 74\n",
      "\n",
      "Training on fold [1/5]\n",
      "\n",
      "bestTest = 0.4190388209\n",
      "bestIteration = 87\n",
      "\n",
      "Training on fold [2/5]\n",
      "\n",
      "bestTest = 0.4286404101\n",
      "bestIteration = 90\n",
      "\n",
      "Training on fold [3/5]\n",
      "\n",
      "bestTest = 0.4200630728\n",
      "bestIteration = 86\n",
      "\n",
      "Training on fold [4/5]\n"
     ]
    },
    {
     "name": "stderr",
     "output_type": "stream",
     "text": [
      "[I 2024-02-26 14:08:51,089] Trial 56 finished with value: 0.8657036176072254 and parameters: {'iterations': 200, 'learning_rate': 0.1729167877676026, 'random_strength': 7, 'bagging_temperature': 5, 'max_bin': 10, 'grow_policy': 'Lossguide', 'min_data_in_leaf': 5, 'max_depth': 7, 'l2_leaf_reg': 48.0423543707512, 'one_hot_max_size': 500, 'auto_class_weights': 'SqrtBalanced'}. Best is trial 21 with value: 0.8669399971382571.\n"
     ]
    },
    {
     "name": "stdout",
     "output_type": "stream",
     "text": [
      "\n",
      "bestTest = 0.4276299328\n",
      "bestIteration = 99\n",
      "\n",
      "Training on fold [0/5]\n",
      "\n",
      "bestTest = 0.4308521985\n",
      "bestIteration = 60\n",
      "\n",
      "Training on fold [1/5]\n",
      "\n",
      "bestTest = 0.4266873274\n",
      "bestIteration = 63\n",
      "\n",
      "Training on fold [2/5]\n",
      "\n",
      "bestTest = 0.433428296\n",
      "bestIteration = 90\n",
      "\n",
      "Training on fold [3/5]\n",
      "\n",
      "bestTest = 0.4323404586\n",
      "bestIteration = 53\n",
      "\n",
      "Training on fold [4/5]\n"
     ]
    },
    {
     "name": "stderr",
     "output_type": "stream",
     "text": [
      "[I 2024-02-26 14:08:55,114] Trial 57 finished with value: 0.8608824411522564 and parameters: {'iterations': 200, 'learning_rate': 0.15464614432508672, 'random_strength': 6, 'bagging_temperature': 9, 'max_bin': 4, 'grow_policy': 'SymmetricTree', 'min_data_in_leaf': 10, 'max_depth': 8, 'l2_leaf_reg': 2.2560598481020198, 'one_hot_max_size': 500, 'auto_class_weights': 'SqrtBalanced'}. Best is trial 21 with value: 0.8669399971382571.\n"
     ]
    },
    {
     "name": "stdout",
     "output_type": "stream",
     "text": [
      "\n",
      "bestTest = 0.4306383939\n",
      "bestIteration = 65\n",
      "\n",
      "Training on fold [0/5]\n",
      "\n",
      "bestTest = 0.4344496612\n",
      "bestIteration = 99\n",
      "\n",
      "Training on fold [1/5]\n",
      "\n",
      "bestTest = 0.4272177969\n",
      "bestIteration = 99\n",
      "\n",
      "Training on fold [2/5]\n",
      "\n",
      "bestTest = 0.4377810952\n",
      "bestIteration = 99\n",
      "\n",
      "Training on fold [3/5]\n",
      "\n",
      "bestTest = 0.4312340101\n",
      "bestIteration = 99\n",
      "\n",
      "Training on fold [4/5]\n"
     ]
    },
    {
     "name": "stderr",
     "output_type": "stream",
     "text": [
      "[I 2024-02-26 14:09:10,940] Trial 58 finished with value: 0.8611810264870836 and parameters: {'iterations': 100, 'learning_rate': 0.12018977802616741, 'random_strength': 8, 'bagging_temperature': 6, 'max_bin': 5, 'grow_policy': 'SymmetricTree', 'min_data_in_leaf': 7, 'max_depth': 4, 'l2_leaf_reg': 15.399047933513573, 'one_hot_max_size': 10, 'auto_class_weights': 'SqrtBalanced'}. Best is trial 21 with value: 0.8669399971382571.\n"
     ]
    },
    {
     "name": "stdout",
     "output_type": "stream",
     "text": [
      "\n",
      "bestTest = 0.4356757768\n",
      "bestIteration = 99\n",
      "\n",
      "Training on fold [0/5]\n",
      "\n",
      "bestTest = 0.437304801\n",
      "bestIteration = 67\n",
      "\n",
      "Training on fold [1/5]\n",
      "\n",
      "bestTest = 0.4268236683\n",
      "bestIteration = 83\n",
      "\n",
      "Training on fold [2/5]\n",
      "\n",
      "bestTest = 0.4348310299\n",
      "bestIteration = 87\n",
      "\n",
      "Training on fold [3/5]\n",
      "\n",
      "bestTest = 0.4341726685\n",
      "bestIteration = 56\n",
      "\n",
      "Training on fold [4/5]\n"
     ]
    },
    {
     "name": "stderr",
     "output_type": "stream",
     "text": [
      "[I 2024-02-26 14:09:30,530] Trial 59 finished with value: 0.8587831516789552 and parameters: {'iterations': 500, 'learning_rate': 0.144557804672943, 'random_strength': 4, 'bagging_temperature': 3, 'max_bin': 8, 'grow_policy': 'SymmetricTree', 'min_data_in_leaf': 8, 'max_depth': 6, 'l2_leaf_reg': 0.0034036719965450917, 'one_hot_max_size': 12, 'auto_class_weights': 'SqrtBalanced'}. Best is trial 21 with value: 0.8669399971382571.\n"
     ]
    },
    {
     "name": "stdout",
     "output_type": "stream",
     "text": [
      "\n",
      "bestTest = 0.4318147437\n",
      "bestIteration = 72\n",
      "\n",
      "Training on fold [0/5]\n",
      "\n",
      "bestTest = 0.4264835083\n",
      "bestIteration = 69\n",
      "\n",
      "Training on fold [1/5]\n",
      "\n",
      "bestTest = 0.4193420074\n",
      "bestIteration = 66\n",
      "\n",
      "Training on fold [2/5]\n",
      "\n",
      "bestTest = 0.4311633802\n",
      "bestIteration = 76\n",
      "\n",
      "Training on fold [3/5]\n",
      "\n",
      "bestTest = 0.4265378811\n",
      "bestIteration = 72\n",
      "\n",
      "Training on fold [4/5]\n"
     ]
    },
    {
     "name": "stderr",
     "output_type": "stream",
     "text": [
      "[I 2024-02-26 14:09:34,694] Trial 60 finished with value: 0.8635712605716103 and parameters: {'iterations': 200, 'learning_rate': 0.20356425121306534, 'random_strength': 5, 'bagging_temperature': 4, 'max_bin': 4, 'grow_policy': 'Depthwise', 'min_data_in_leaf': 10, 'max_depth': 5, 'l2_leaf_reg': 5.582512205471598, 'one_hot_max_size': 500, 'auto_class_weights': 'SqrtBalanced'}. Best is trial 21 with value: 0.8669399971382571.\n"
     ]
    },
    {
     "name": "stdout",
     "output_type": "stream",
     "text": [
      "\n",
      "bestTest = 0.4300373489\n",
      "bestIteration = 70\n",
      "\n",
      "Training on fold [0/5]\n",
      "\n",
      "bestTest = 0.4282671182\n",
      "bestIteration = 98\n",
      "\n",
      "Training on fold [1/5]\n",
      "\n",
      "bestTest = 0.4164096256\n",
      "bestIteration = 146\n",
      "\n",
      "Training on fold [2/5]\n",
      "\n",
      "bestTest = 0.4270501806\n",
      "bestIteration = 154\n",
      "\n",
      "Training on fold [3/5]\n",
      "\n",
      "bestTest = 0.4238930672\n",
      "bestIteration = 145\n",
      "\n",
      "Training on fold [4/5]\n"
     ]
    },
    {
     "name": "stderr",
     "output_type": "stream",
     "text": [
      "[I 2024-02-26 14:09:40,496] Trial 61 finished with value: 0.8659355758436874 and parameters: {'iterations': 200, 'learning_rate': 0.14071187407639427, 'random_strength': 5, 'bagging_temperature': 2, 'max_bin': 4, 'grow_policy': 'SymmetricTree', 'min_data_in_leaf': 10, 'max_depth': 5, 'l2_leaf_reg': 73.27000908566869, 'one_hot_max_size': 500, 'auto_class_weights': 'SqrtBalanced'}. Best is trial 21 with value: 0.8669399971382571.\n"
     ]
    },
    {
     "name": "stdout",
     "output_type": "stream",
     "text": [
      "\n",
      "bestTest = 0.4261675271\n",
      "bestIteration = 142\n",
      "\n",
      "Training on fold [0/5]\n",
      "\n",
      "bestTest = 0.4250849137\n",
      "bestIteration = 150\n",
      "\n",
      "Training on fold [1/5]\n",
      "\n",
      "bestTest = 0.4168210827\n",
      "bestIteration = 199\n",
      "\n",
      "Training on fold [2/5]\n",
      "\n",
      "bestTest = 0.4262439302\n",
      "bestIteration = 196\n",
      "\n",
      "Training on fold [3/5]\n",
      "\n",
      "bestTest = 0.4220146399\n",
      "bestIteration = 153\n",
      "\n",
      "Training on fold [4/5]\n"
     ]
    },
    {
     "name": "stderr",
     "output_type": "stream",
     "text": [
      "[I 2024-02-26 14:09:47,932] Trial 62 finished with value: 0.8665509026206267 and parameters: {'iterations': 200, 'learning_rate': 0.10775050982857175, 'random_strength': 6, 'bagging_temperature': 3, 'max_bin': 4, 'grow_policy': 'SymmetricTree', 'min_data_in_leaf': 9, 'max_depth': 6, 'l2_leaf_reg': 91.01063090563403, 'one_hot_max_size': 500, 'auto_class_weights': 'SqrtBalanced'}. Best is trial 21 with value: 0.8669399971382571.\n"
     ]
    },
    {
     "name": "stdout",
     "output_type": "stream",
     "text": [
      "\n",
      "bestTest = 0.4263915259\n",
      "bestIteration = 163\n",
      "\n",
      "Training on fold [0/5]\n",
      "\n",
      "bestTest = 0.4252477014\n",
      "bestIteration = 182\n",
      "\n",
      "Training on fold [1/5]\n",
      "\n",
      "bestTest = 0.4177809369\n",
      "bestIteration = 199\n",
      "\n",
      "Training on fold [2/5]\n",
      "\n",
      "bestTest = 0.4272497871\n",
      "bestIteration = 199\n",
      "\n",
      "Training on fold [3/5]\n",
      "\n",
      "bestTest = 0.4224732977\n",
      "bestIteration = 174\n",
      "\n",
      "Training on fold [4/5]\n"
     ]
    },
    {
     "name": "stderr",
     "output_type": "stream",
     "text": [
      "[I 2024-02-26 14:09:56,133] Trial 63 finished with value: 0.8661923347291752 and parameters: {'iterations': 200, 'learning_rate': 0.07480383163402983, 'random_strength': 6, 'bagging_temperature': 2, 'max_bin': 4, 'grow_policy': 'SymmetricTree', 'min_data_in_leaf': 9, 'max_depth': 6, 'l2_leaf_reg': 24.842037745008707, 'one_hot_max_size': 500, 'auto_class_weights': 'SqrtBalanced'}. Best is trial 21 with value: 0.8669399971382571.\n"
     ]
    },
    {
     "name": "stdout",
     "output_type": "stream",
     "text": [
      "\n",
      "bestTest = 0.4284766028\n",
      "bestIteration = 198\n",
      "\n",
      "Training on fold [0/5]\n",
      "\n",
      "bestTest = 0.4247844472\n",
      "bestIteration = 177\n",
      "\n",
      "Training on fold [1/5]\n",
      "\n",
      "bestTest = 0.4172588609\n",
      "bestIteration = 199\n",
      "\n",
      "Training on fold [2/5]\n",
      "\n",
      "bestTest = 0.427563315\n",
      "bestIteration = 199\n",
      "\n",
      "Training on fold [3/5]\n",
      "\n",
      "bestTest = 0.4236767696\n",
      "bestIteration = 181\n",
      "\n",
      "Training on fold [4/5]\n"
     ]
    },
    {
     "name": "stderr",
     "output_type": "stream",
     "text": [
      "[I 2024-02-26 14:10:04,407] Trial 64 finished with value: 0.8662241921391868 and parameters: {'iterations': 200, 'learning_rate': 0.07987297897815308, 'random_strength': 7, 'bagging_temperature': 1, 'max_bin': 20, 'grow_policy': 'SymmetricTree', 'min_data_in_leaf': 8, 'max_depth': 6, 'l2_leaf_reg': 26.59542055976073, 'one_hot_max_size': 500, 'auto_class_weights': 'SqrtBalanced'}. Best is trial 21 with value: 0.8669399971382571.\n"
     ]
    },
    {
     "name": "stdout",
     "output_type": "stream",
     "text": [
      "\n",
      "bestTest = 0.4272449212\n",
      "bestIteration = 198\n",
      "\n",
      "Training on fold [0/5]\n",
      "\n",
      "bestTest = 0.4271137955\n",
      "bestIteration = 197\n",
      "\n",
      "Training on fold [1/5]\n",
      "\n",
      "bestTest = 0.42077973\n",
      "bestIteration = 199\n",
      "\n",
      "Training on fold [2/5]\n",
      "\n",
      "bestTest = 0.4304058493\n",
      "bestIteration = 199\n",
      "\n",
      "Training on fold [3/5]\n",
      "\n",
      "bestTest = 0.4235070067\n",
      "bestIteration = 191\n",
      "\n",
      "Training on fold [4/5]\n"
     ]
    },
    {
     "name": "stderr",
     "output_type": "stream",
     "text": [
      "[I 2024-02-26 14:10:12,894] Trial 65 finished with value: 0.8651625289635755 and parameters: {'iterations': 200, 'learning_rate': 0.06660449100449328, 'random_strength': 7, 'bagging_temperature': 1, 'max_bin': 20, 'grow_policy': 'SymmetricTree', 'min_data_in_leaf': 8, 'max_depth': 6, 'l2_leaf_reg': 27.462402819280836, 'one_hot_max_size': 500, 'auto_class_weights': 'SqrtBalanced'}. Best is trial 21 with value: 0.8669399971382571.\n"
     ]
    },
    {
     "name": "stdout",
     "output_type": "stream",
     "text": [
      "\n",
      "bestTest = 0.4299118429\n",
      "bestIteration = 198\n",
      "\n",
      "Training on fold [0/5]\n",
      "\n",
      "bestTest = 0.4321630743\n",
      "bestIteration = 198\n",
      "\n",
      "Training on fold [1/5]\n",
      "\n",
      "bestTest = 0.4265976901\n",
      "bestIteration = 198\n",
      "\n",
      "Training on fold [2/5]\n",
      "\n",
      "bestTest = 0.4377129444\n",
      "bestIteration = 199\n",
      "\n",
      "Training on fold [3/5]\n",
      "\n",
      "bestTest = 0.4313937906\n",
      "bestIteration = 199\n",
      "\n",
      "Training on fold [4/5]\n"
     ]
    },
    {
     "name": "stderr",
     "output_type": "stream",
     "text": [
      "[I 2024-02-26 14:10:21,555] Trial 66 finished with value: 0.861231737233131 and parameters: {'iterations': 200, 'learning_rate': 0.047327526311415916, 'random_strength': 7, 'bagging_temperature': 0, 'max_bin': 20, 'grow_policy': 'SymmetricTree', 'min_data_in_leaf': 9, 'max_depth': 6, 'l2_leaf_reg': 0.09041718041474678, 'one_hot_max_size': 1024, 'auto_class_weights': 'SqrtBalanced'}. Best is trial 21 with value: 0.8669399971382571.\n"
     ]
    },
    {
     "name": "stdout",
     "output_type": "stream",
     "text": [
      "\n",
      "bestTest = 0.4359877324\n",
      "bestIteration = 197\n",
      "\n",
      "Training on fold [0/5]\n",
      "\n",
      "bestTest = 0.4254434075\n",
      "bestIteration = 172\n",
      "\n",
      "Training on fold [1/5]\n",
      "\n",
      "bestTest = 0.4170955913\n",
      "bestIteration = 214\n",
      "\n",
      "Training on fold [2/5]\n",
      "\n",
      "bestTest = 0.4232545465\n",
      "bestIteration = 230\n",
      "\n",
      "Training on fold [3/5]\n",
      "\n",
      "bestTest = 0.4221482536\n",
      "bestIteration = 180\n",
      "\n",
      "Training on fold [4/5]\n"
     ]
    },
    {
     "name": "stderr",
     "output_type": "stream",
     "text": [
      "[I 2024-02-26 14:10:36,455] Trial 67 finished with value: 0.8667866099124595 and parameters: {'iterations': 500, 'learning_rate': 0.08052138950023519, 'random_strength': 6, 'bagging_temperature': 1, 'max_bin': 20, 'grow_policy': 'Lossguide', 'min_data_in_leaf': 9, 'max_depth': 6, 'l2_leaf_reg': 20.27935491893797, 'one_hot_max_size': 500, 'auto_class_weights': 'SqrtBalanced'}. Best is trial 21 with value: 0.8669399971382571.\n"
     ]
    },
    {
     "name": "stdout",
     "output_type": "stream",
     "text": [
      "\n",
      "bestTest = 0.4256867238\n",
      "bestIteration = 197\n",
      "\n",
      "Training on fold [0/5]\n",
      "\n",
      "bestTest = 0.4309843013\n",
      "bestIteration = 499\n",
      "\n",
      "Training on fold [1/5]\n",
      "\n",
      "bestTest = 0.4264889831\n",
      "bestIteration = 499\n",
      "\n",
      "Training on fold [2/5]\n",
      "\n",
      "bestTest = 0.4376416481\n",
      "bestIteration = 499\n",
      "\n",
      "Training on fold [3/5]\n",
      "\n",
      "bestTest = 0.4295307807\n",
      "bestIteration = 499\n",
      "\n",
      "Training on fold [4/5]\n"
     ]
    },
    {
     "name": "stderr",
     "output_type": "stream",
     "text": [
      "[I 2024-02-26 14:11:08,948] Trial 68 finished with value: 0.8634191077802404 and parameters: {'iterations': 500, 'learning_rate': 0.017637678694513603, 'random_strength': 6, 'bagging_temperature': 0, 'max_bin': 20, 'grow_policy': 'Lossguide', 'min_data_in_leaf': 8, 'max_depth': 6, 'l2_leaf_reg': 3.482377753975844, 'one_hot_max_size': 500, 'auto_class_weights': 'SqrtBalanced'}. Best is trial 21 with value: 0.8669399971382571.\n"
     ]
    },
    {
     "name": "stdout",
     "output_type": "stream",
     "text": [
      "\n",
      "bestTest = 0.4338199936\n",
      "bestIteration = 499\n",
      "\n",
      "Training on fold [0/5]\n",
      "\n",
      "bestTest = 0.4590179222\n",
      "bestIteration = 134\n",
      "\n",
      "Training on fold [1/5]\n",
      "\n",
      "bestTest = 0.4515946108\n",
      "bestIteration = 144\n",
      "\n",
      "Training on fold [2/5]\n",
      "\n",
      "bestTest = 0.4529765096\n",
      "bestIteration = 193\n",
      "\n",
      "Training on fold [3/5]\n",
      "\n",
      "bestTest = 0.4587011851\n",
      "bestIteration = 124\n",
      "\n",
      "Training on fold [4/5]\n"
     ]
    },
    {
     "name": "stderr",
     "output_type": "stream",
     "text": [
      "[I 2024-02-26 14:13:02,722] Trial 69 finished with value: 0.8658973450904683 and parameters: {'iterations': 500, 'learning_rate': 0.10695242923805803, 'random_strength': 8, 'bagging_temperature': 1, 'max_bin': 20, 'grow_policy': 'Lossguide', 'min_data_in_leaf': 9, 'max_depth': 7, 'l2_leaf_reg': 49.105173586977095, 'one_hot_max_size': 10, 'auto_class_weights': 'Balanced'}. Best is trial 21 with value: 0.8669399971382571.\n"
     ]
    },
    {
     "name": "stdout",
     "output_type": "stream",
     "text": [
      "\n",
      "bestTest = 0.4617491898\n",
      "bestIteration = 128\n",
      "\n",
      "Training on fold [0/5]\n",
      "\n",
      "bestTest = 0.4307545681\n",
      "bestIteration = 146\n",
      "\n",
      "Training on fold [1/5]\n",
      "\n",
      "bestTest = 0.4216074977\n",
      "bestIteration = 143\n",
      "\n",
      "Training on fold [2/5]\n",
      "\n",
      "bestTest = 0.4282669266\n",
      "bestIteration = 147\n",
      "\n",
      "Training on fold [3/5]\n",
      "\n",
      "bestTest = 0.4247850893\n",
      "bestIteration = 145\n",
      "\n",
      "Training on fold [4/5]\n"
     ]
    },
    {
     "name": "stderr",
     "output_type": "stream",
     "text": [
      "[I 2024-02-26 14:13:12,627] Trial 70 finished with value: 0.8636033372670875 and parameters: {'iterations': 500, 'learning_rate': 0.09202650089357217, 'random_strength': 7, 'bagging_temperature': 1, 'max_bin': 20, 'grow_policy': 'Lossguide', 'min_data_in_leaf': 7, 'max_depth': 6, 'l2_leaf_reg': 0.37723723037345025, 'one_hot_max_size': 500, 'auto_class_weights': 'SqrtBalanced'}. Best is trial 21 with value: 0.8669399971382571.\n"
     ]
    },
    {
     "name": "stdout",
     "output_type": "stream",
     "text": [
      "\n",
      "bestTest = 0.4310864677\n",
      "bestIteration = 141\n",
      "\n",
      "Training on fold [0/5]\n",
      "\n",
      "bestTest = 0.4239381925\n",
      "bestIteration = 198\n",
      "\n",
      "Training on fold [1/5]\n",
      "\n",
      "bestTest = 0.4176524374\n",
      "bestIteration = 185\n",
      "\n",
      "Training on fold [2/5]\n",
      "\n",
      "bestTest = 0.4252683738\n",
      "bestIteration = 176\n",
      "\n",
      "Training on fold [3/5]\n",
      "\n",
      "bestTest = 0.4210587081\n",
      "bestIteration = 175\n",
      "\n",
      "Training on fold [4/5]\n"
     ]
    },
    {
     "name": "stderr",
     "output_type": "stream",
     "text": [
      "[I 2024-02-26 14:13:24,606] Trial 71 finished with value: 0.8673031802624154 and parameters: {'iterations': 500, 'learning_rate': 0.07769630995531125, 'random_strength': 6, 'bagging_temperature': 2, 'max_bin': 20, 'grow_policy': 'Lossguide', 'min_data_in_leaf': 9, 'max_depth': 6, 'l2_leaf_reg': 22.001032078777893, 'one_hot_max_size': 500, 'auto_class_weights': 'SqrtBalanced'}. Best is trial 71 with value: 0.8673031802624154.\n"
     ]
    },
    {
     "name": "stdout",
     "output_type": "stream",
     "text": [
      "\n",
      "bestTest = 0.4258008831\n",
      "bestIteration = 179\n",
      "\n",
      "Training on fold [0/5]\n",
      "\n",
      "bestTest = 0.4257802729\n",
      "bestIteration = 244\n",
      "\n",
      "Training on fold [1/5]\n",
      "\n",
      "bestTest = 0.4154400023\n",
      "bestIteration = 338\n",
      "\n",
      "Training on fold [2/5]\n",
      "\n",
      "bestTest = 0.4245127284\n",
      "bestIteration = 261\n",
      "\n",
      "Training on fold [3/5]\n",
      "\n",
      "bestTest = 0.4226102897\n",
      "bestIteration = 259\n",
      "\n",
      "Training on fold [4/5]\n"
     ]
    },
    {
     "name": "stderr",
     "output_type": "stream",
     "text": [
      "[I 2024-02-26 14:13:40,277] Trial 72 finished with value: 0.8666937067416942 and parameters: {'iterations': 500, 'learning_rate': 0.057110096065099814, 'random_strength': 6, 'bagging_temperature': 2, 'max_bin': 20, 'grow_policy': 'Lossguide', 'min_data_in_leaf': 9, 'max_depth': 5, 'l2_leaf_reg': 13.619824694314962, 'one_hot_max_size': 500, 'auto_class_weights': 'SqrtBalanced'}. Best is trial 71 with value: 0.8673031802624154.\n"
     ]
    },
    {
     "name": "stdout",
     "output_type": "stream",
     "text": [
      "\n",
      "bestTest = 0.4284920798\n",
      "bestIteration = 237\n",
      "\n",
      "Training on fold [0/5]\n",
      "\n",
      "bestTest = 0.4250339609\n",
      "bestIteration = 235\n",
      "\n",
      "Training on fold [1/5]\n",
      "\n",
      "bestTest = 0.4163085721\n",
      "bestIteration = 280\n",
      "\n",
      "Training on fold [2/5]\n",
      "\n",
      "bestTest = 0.4254134079\n",
      "bestIteration = 309\n",
      "\n",
      "Training on fold [3/5]\n",
      "\n",
      "bestTest = 0.4236696507\n",
      "bestIteration = 257\n",
      "\n",
      "Training on fold [4/5]\n"
     ]
    },
    {
     "name": "stderr",
     "output_type": "stream",
     "text": [
      "[I 2024-02-26 14:13:56,139] Trial 73 finished with value: 0.866668389789355 and parameters: {'iterations': 500, 'learning_rate': 0.05564953553244506, 'random_strength': 6, 'bagging_temperature': 2, 'max_bin': 20, 'grow_policy': 'Lossguide', 'min_data_in_leaf': 9, 'max_depth': 5, 'l2_leaf_reg': 10.035560915844858, 'one_hot_max_size': 500, 'auto_class_weights': 'SqrtBalanced'}. Best is trial 71 with value: 0.8673031802624154.\n"
     ]
    },
    {
     "name": "stdout",
     "output_type": "stream",
     "text": [
      "\n",
      "bestTest = 0.4247098434\n",
      "bestIteration = 290\n",
      "\n",
      "Training on fold [0/5]\n",
      "\n",
      "bestTest = 0.4241326689\n",
      "bestIteration = 324\n",
      "\n",
      "Training on fold [1/5]\n",
      "\n",
      "bestTest = 0.4179105145\n",
      "bestIteration = 305\n",
      "\n",
      "Training on fold [2/5]\n",
      "\n",
      "bestTest = 0.4287294923\n",
      "bestIteration = 287\n",
      "\n",
      "Training on fold [3/5]\n",
      "\n",
      "bestTest = 0.4250672014\n",
      "bestIteration = 291\n",
      "\n",
      "Training on fold [4/5]\n"
     ]
    },
    {
     "name": "stderr",
     "output_type": "stream",
     "text": [
      "[I 2024-02-26 14:14:10,499] Trial 74 finished with value: 0.8660619224041127 and parameters: {'iterations': 500, 'learning_rate': 0.055639442268271444, 'random_strength': 6, 'bagging_temperature': 2, 'max_bin': 20, 'grow_policy': 'Lossguide', 'min_data_in_leaf': 6, 'max_depth': 4, 'l2_leaf_reg': 1.8295266233483587, 'one_hot_max_size': 500, 'auto_class_weights': 'SqrtBalanced'}. Best is trial 71 with value: 0.8673031802624154.\n"
     ]
    },
    {
     "name": "stdout",
     "output_type": "stream",
     "text": [
      "\n",
      "bestTest = 0.4263432006\n",
      "bestIteration = 283\n",
      "\n",
      "Training on fold [0/5]\n",
      "\n",
      "bestTest = 0.4242699595\n",
      "bestIteration = 455\n",
      "\n",
      "Training on fold [1/5]\n",
      "\n",
      "bestTest = 0.4185685773\n",
      "bestIteration = 495\n",
      "\n",
      "Training on fold [2/5]\n",
      "\n",
      "bestTest = 0.4254972644\n",
      "bestIteration = 499\n",
      "\n",
      "Training on fold [3/5]\n",
      "\n",
      "bestTest = 0.4223399335\n",
      "bestIteration = 479\n",
      "\n",
      "Training on fold [4/5]\n"
     ]
    },
    {
     "name": "stderr",
     "output_type": "stream",
     "text": [
      "[I 2024-02-26 14:14:37,600] Trial 75 finished with value: 0.8672120734484852 and parameters: {'iterations': 500, 'learning_rate': 0.028492596032690165, 'random_strength': 6, 'bagging_temperature': 2, 'max_bin': 20, 'grow_policy': 'Lossguide', 'min_data_in_leaf': 9, 'max_depth': 5, 'l2_leaf_reg': 7.87384672115301, 'one_hot_max_size': 1024, 'auto_class_weights': 'SqrtBalanced'}. Best is trial 71 with value: 0.8673031802624154.\n"
     ]
    },
    {
     "name": "stdout",
     "output_type": "stream",
     "text": [
      "\n",
      "bestTest = 0.425140909\n",
      "bestIteration = 497\n",
      "\n",
      "Training on fold [0/5]\n",
      "\n",
      "bestTest = 0.4251577349\n",
      "bestIteration = 499\n",
      "\n",
      "Training on fold [1/5]\n",
      "\n",
      "bestTest = 0.4204801435\n",
      "bestIteration = 499\n",
      "\n",
      "Training on fold [2/5]\n",
      "\n",
      "bestTest = 0.4305229561\n",
      "bestIteration = 499\n",
      "\n",
      "Training on fold [3/5]\n",
      "\n",
      "bestTest = 0.4244109661\n",
      "bestIteration = 499\n",
      "\n",
      "Training on fold [4/5]\n"
     ]
    },
    {
     "name": "stderr",
     "output_type": "stream",
     "text": [
      "[I 2024-02-26 14:15:04,118] Trial 76 finished with value: 0.8661393726911746 and parameters: {'iterations': 500, 'learning_rate': 0.024205650734392025, 'random_strength': 6, 'bagging_temperature': 2, 'max_bin': 20, 'grow_policy': 'Lossguide', 'min_data_in_leaf': 9, 'max_depth': 5, 'l2_leaf_reg': 9.87332192300432, 'one_hot_max_size': 100, 'auto_class_weights': 'SqrtBalanced'}. Best is trial 71 with value: 0.8673031802624154.\n"
     ]
    },
    {
     "name": "stdout",
     "output_type": "stream",
     "text": [
      "\n",
      "bestTest = 0.4277347474\n",
      "bestIteration = 499\n",
      "\n",
      "Training on fold [0/5]\n",
      "\n",
      "bestTest = 0.4259167994\n",
      "bestIteration = 297\n",
      "\n",
      "Training on fold [1/5]\n",
      "\n",
      "bestTest = 0.4175105514\n",
      "bestIteration = 336\n",
      "\n",
      "Training on fold [2/5]\n",
      "\n",
      "bestTest = 0.4248393536\n",
      "bestIteration = 496\n",
      "\n",
      "Training on fold [3/5]\n",
      "\n",
      "bestTest = 0.4219502112\n",
      "bestIteration = 352\n",
      "\n",
      "Training on fold [4/5]\n"
     ]
    },
    {
     "name": "stderr",
     "output_type": "stream",
     "text": [
      "[I 2024-02-26 14:18:10,837] Trial 77 finished with value: 0.8671023906078613 and parameters: {'iterations': 500, 'learning_rate': 0.04175738427720218, 'random_strength': 6, 'bagging_temperature': 2, 'max_bin': 20, 'grow_policy': 'Lossguide', 'min_data_in_leaf': 9, 'max_depth': 5, 'l2_leaf_reg': 5.880364376140711, 'one_hot_max_size': 5, 'auto_class_weights': 'SqrtBalanced'}. Best is trial 71 with value: 0.8673031802624154.\n"
     ]
    },
    {
     "name": "stdout",
     "output_type": "stream",
     "text": [
      "\n",
      "bestTest = 0.424575283\n",
      "bestIteration = 328\n",
      "\n",
      "Training on fold [0/5]\n",
      "\n",
      "bestTest = 0.4873114729\n",
      "bestIteration = 499\n",
      "\n",
      "Training on fold [1/5]\n",
      "\n",
      "bestTest = 0.4881795242\n",
      "bestIteration = 499\n",
      "\n",
      "Training on fold [2/5]\n",
      "\n",
      "bestTest = 0.4919422508\n",
      "bestIteration = 499\n",
      "\n",
      "Training on fold [3/5]\n",
      "\n",
      "bestTest = 0.4835532413\n",
      "bestIteration = 499\n",
      "\n",
      "Training on fold [4/5]\n"
     ]
    },
    {
     "name": "stderr",
     "output_type": "stream",
     "text": [
      "[I 2024-02-26 14:23:14,757] Trial 78 finished with value: 0.8514532587618348 and parameters: {'iterations': 500, 'learning_rate': 0.0032876916836928685, 'random_strength': 6, 'bagging_temperature': 1, 'max_bin': 20, 'grow_policy': 'Lossguide', 'min_data_in_leaf': 9, 'max_depth': 5, 'l2_leaf_reg': 1.3745293361701503, 'one_hot_max_size': 5, 'auto_class_weights': 'SqrtBalanced'}. Best is trial 71 with value: 0.8673031802624154.\n"
     ]
    },
    {
     "name": "stdout",
     "output_type": "stream",
     "text": [
      "\n",
      "bestTest = 0.49169908\n",
      "bestIteration = 499\n",
      "\n",
      "Training on fold [0/5]\n",
      "\n",
      "bestTest = 0.4231607135\n",
      "bestIteration = 435\n",
      "\n",
      "Training on fold [1/5]\n",
      "\n",
      "bestTest = 0.4166879351\n",
      "bestIteration = 456\n",
      "\n",
      "Training on fold [2/5]\n",
      "\n",
      "bestTest = 0.4254842453\n",
      "bestIteration = 499\n",
      "\n",
      "Training on fold [3/5]\n",
      "\n",
      "bestTest = 0.4249392631\n",
      "bestIteration = 372\n",
      "\n",
      "Training on fold [4/5]\n"
     ]
    },
    {
     "name": "stderr",
     "output_type": "stream",
     "text": [
      "[I 2024-02-26 14:26:07,563] Trial 79 finished with value: 0.867278416296343 and parameters: {'iterations': 500, 'learning_rate': 0.03694868108788624, 'random_strength': 6, 'bagging_temperature': 2, 'max_bin': 20, 'grow_policy': 'Lossguide', 'min_data_in_leaf': 8, 'max_depth': 4, 'l2_leaf_reg': 5.000808512751287, 'one_hot_max_size': 5, 'auto_class_weights': 'SqrtBalanced'}. Best is trial 71 with value: 0.8673031802624154.\n"
     ]
    },
    {
     "name": "stdout",
     "output_type": "stream",
     "text": [
      "\n",
      "bestTest = 0.4247461511\n",
      "bestIteration = 497\n",
      "\n",
      "Training on fold [0/5]\n",
      "\n",
      "bestTest = 0.4257004275\n",
      "bestIteration = 495\n",
      "\n",
      "Training on fold [1/5]\n",
      "\n",
      "bestTest = 0.4193660021\n",
      "bestIteration = 499\n",
      "\n",
      "Training on fold [2/5]\n",
      "\n",
      "bestTest = 0.4294836807\n",
      "bestIteration = 499\n",
      "\n",
      "Training on fold [3/5]\n",
      "\n",
      "bestTest = 0.4245868285\n",
      "bestIteration = 486\n",
      "\n",
      "Training on fold [4/5]\n"
     ]
    },
    {
     "name": "stderr",
     "output_type": "stream",
     "text": [
      "[I 2024-02-26 14:28:21,705] Trial 80 finished with value: 0.8661714629066424 and parameters: {'iterations': 500, 'learning_rate': 0.03425031101752326, 'random_strength': 6, 'bagging_temperature': 2, 'max_bin': 20, 'grow_policy': 'Lossguide', 'min_data_in_leaf': 8, 'max_depth': 3, 'l2_leaf_reg': 0.5713344872432579, 'one_hot_max_size': 5, 'auto_class_weights': 'SqrtBalanced'}. Best is trial 71 with value: 0.8673031802624154.\n"
     ]
    },
    {
     "name": "stdout",
     "output_type": "stream",
     "text": [
      "\n",
      "bestTest = 0.4262855826\n",
      "bestIteration = 499\n",
      "\n",
      "Training on fold [0/5]\n",
      "\n",
      "bestTest = 0.4224451237\n",
      "bestIteration = 488\n",
      "\n",
      "Training on fold [1/5]\n",
      "\n",
      "bestTest = 0.418049343\n",
      "bestIteration = 478\n",
      "\n",
      "Training on fold [2/5]\n",
      "\n",
      "bestTest = 0.4251530665\n",
      "bestIteration = 497\n",
      "\n",
      "Training on fold [3/5]\n",
      "\n",
      "bestTest = 0.4233176224\n",
      "bestIteration = 447\n",
      "\n",
      "Training on fold [4/5]\n"
     ]
    },
    {
     "name": "stderr",
     "output_type": "stream",
     "text": [
      "[I 2024-02-26 14:32:06,709] Trial 81 finished with value: 0.8672230365730126 and parameters: {'iterations': 500, 'learning_rate': 0.036102367640798314, 'random_strength': 6, 'bagging_temperature': 2, 'max_bin': 20, 'grow_policy': 'Lossguide', 'min_data_in_leaf': 9, 'max_depth': 4, 'l2_leaf_reg': 3.6954618138561854, 'one_hot_max_size': 5, 'auto_class_weights': 'SqrtBalanced'}. Best is trial 71 with value: 0.8673031802624154.\n"
     ]
    },
    {
     "name": "stdout",
     "output_type": "stream",
     "text": [
      "\n",
      "bestTest = 0.4249818795\n",
      "bestIteration = 450\n",
      "\n",
      "Training on fold [0/5]\n",
      "\n",
      "bestTest = 0.4243716869\n",
      "bestIteration = 427\n",
      "\n",
      "Training on fold [1/5]\n",
      "\n",
      "bestTest = 0.4174720762\n",
      "bestIteration = 482\n",
      "\n",
      "Training on fold [2/5]\n",
      "\n",
      "bestTest = 0.4254178744\n",
      "bestIteration = 488\n",
      "\n",
      "Training on fold [3/5]\n",
      "\n",
      "bestTest = 0.4231665295\n",
      "bestIteration = 371\n",
      "\n",
      "Training on fold [4/5]\n"
     ]
    },
    {
     "name": "stderr",
     "output_type": "stream",
     "text": [
      "[I 2024-02-26 14:35:12,698] Trial 82 finished with value: 0.8669342732994838 and parameters: {'iterations': 500, 'learning_rate': 0.03881274826080149, 'random_strength': 6, 'bagging_temperature': 2, 'max_bin': 20, 'grow_policy': 'Lossguide', 'min_data_in_leaf': 9, 'max_depth': 4, 'l2_leaf_reg': 5.03497797184655, 'one_hot_max_size': 5, 'auto_class_weights': 'SqrtBalanced'}. Best is trial 71 with value: 0.8673031802624154.\n"
     ]
    },
    {
     "name": "stdout",
     "output_type": "stream",
     "text": [
      "\n",
      "bestTest = 0.4258709979\n",
      "bestIteration = 388\n",
      "\n",
      "Training on fold [0/5]\n",
      "\n",
      "bestTest = 0.4233991873\n",
      "bestIteration = 467\n",
      "\n",
      "Training on fold [1/5]\n",
      "\n",
      "bestTest = 0.4192616648\n",
      "bestIteration = 499\n",
      "\n",
      "Training on fold [2/5]\n",
      "\n",
      "bestTest = 0.426706286\n",
      "bestIteration = 499\n",
      "\n",
      "Training on fold [3/5]\n",
      "\n",
      "bestTest = 0.4239856892\n",
      "bestIteration = 447\n",
      "\n",
      "Training on fold [4/5]\n"
     ]
    },
    {
     "name": "stderr",
     "output_type": "stream",
     "text": [
      "[I 2024-02-26 14:38:33,143] Trial 83 finished with value: 0.8666265675003617 and parameters: {'iterations': 500, 'learning_rate': 0.03490025159916195, 'random_strength': 7, 'bagging_temperature': 2, 'max_bin': 20, 'grow_policy': 'Lossguide', 'min_data_in_leaf': 8, 'max_depth': 4, 'l2_leaf_reg': 0.185280016922079, 'one_hot_max_size': 5, 'auto_class_weights': 'SqrtBalanced'}. Best is trial 71 with value: 0.8673031802624154.\n"
     ]
    },
    {
     "name": "stdout",
     "output_type": "stream",
     "text": [
      "\n",
      "bestTest = 0.4247180966\n",
      "bestIteration = 499\n",
      "\n",
      "Training on fold [0/5]\n",
      "\n",
      "bestTest = 0.4261781685\n",
      "bestIteration = 437\n",
      "\n",
      "Training on fold [1/5]\n",
      "\n",
      "bestTest = 0.4201545127\n",
      "bestIteration = 370\n",
      "\n",
      "Training on fold [2/5]\n",
      "\n",
      "bestTest = 0.4299153763\n",
      "bestIteration = 499\n",
      "\n",
      "Training on fold [3/5]\n",
      "\n",
      "bestTest = 0.4238181864\n",
      "bestIteration = 384\n",
      "\n",
      "Training on fold [4/5]\n"
     ]
    },
    {
     "name": "stderr",
     "output_type": "stream",
     "text": [
      "[I 2024-02-26 14:40:23,459] Trial 84 finished with value: 0.865544910546884 and parameters: {'iterations': 500, 'learning_rate': 0.044424891796151014, 'random_strength': 6, 'bagging_temperature': 1, 'max_bin': 20, 'grow_policy': 'Lossguide', 'min_data_in_leaf': 9, 'max_depth': 3, 'l2_leaf_reg': 4.588450275668776, 'one_hot_max_size': 5, 'auto_class_weights': 'SqrtBalanced'}. Best is trial 71 with value: 0.8673031802624154.\n"
     ]
    },
    {
     "name": "stdout",
     "output_type": "stream",
     "text": [
      "\n",
      "bestTest = 0.4266762538\n",
      "bestIteration = 479\n",
      "\n",
      "Training on fold [0/5]\n",
      "\n",
      "bestTest = 0.4249755776\n",
      "bestIteration = 498\n",
      "\n",
      "Training on fold [1/5]\n",
      "\n",
      "bestTest = 0.418523988\n",
      "bestIteration = 499\n",
      "\n",
      "Training on fold [2/5]\n",
      "\n",
      "bestTest = 0.429773902\n",
      "bestIteration = 499\n",
      "\n",
      "Training on fold [3/5]\n",
      "\n",
      "bestTest = 0.424323616\n",
      "bestIteration = 499\n",
      "\n",
      "Training on fold [4/5]\n"
     ]
    },
    {
     "name": "stderr",
     "output_type": "stream",
     "text": [
      "[I 2024-02-26 14:44:16,385] Trial 85 finished with value: 0.8664450424236618 and parameters: {'iterations': 500, 'learning_rate': 0.027654732499638485, 'random_strength': 5, 'bagging_temperature': 0, 'max_bin': 20, 'grow_policy': 'Lossguide', 'min_data_in_leaf': 8, 'max_depth': 4, 'l2_leaf_reg': 0.9805646031296154, 'one_hot_max_size': 5, 'auto_class_weights': 'SqrtBalanced'}. Best is trial 71 with value: 0.8673031802624154.\n"
     ]
    },
    {
     "name": "stdout",
     "output_type": "stream",
     "text": [
      "\n",
      "bestTest = 0.4262065387\n",
      "bestIteration = 499\n",
      "\n",
      "Training on fold [0/5]\n",
      "\n",
      "bestTest = 0.4961509373\n",
      "bestIteration = 499\n",
      "\n",
      "Training on fold [1/5]\n",
      "\n",
      "bestTest = 0.4939435775\n",
      "bestIteration = 499\n",
      "\n",
      "Training on fold [2/5]\n",
      "\n",
      "bestTest = 0.5003462095\n",
      "bestIteration = 499\n",
      "\n",
      "Training on fold [3/5]\n",
      "\n",
      "bestTest = 0.4929522913\n",
      "bestIteration = 499\n",
      "\n",
      "Training on fold [4/5]\n"
     ]
    },
    {
     "name": "stderr",
     "output_type": "stream",
     "text": [
      "[I 2024-02-26 14:48:03,327] Trial 86 finished with value: 0.8540109075176214 and parameters: {'iterations': 500, 'learning_rate': 0.006723286558899304, 'random_strength': 6, 'bagging_temperature': 2, 'max_bin': 20, 'grow_policy': 'Lossguide', 'min_data_in_leaf': 9, 'max_depth': 4, 'l2_leaf_reg': 2.0725777023420386, 'one_hot_max_size': 5, 'auto_class_weights': 'Balanced'}. Best is trial 71 with value: 0.8673031802624154.\n"
     ]
    },
    {
     "name": "stdout",
     "output_type": "stream",
     "text": [
      "\n",
      "bestTest = 0.5010084366\n",
      "bestIteration = 499\n",
      "\n",
      "Training on fold [0/5]\n",
      "\n",
      "bestTest = 0.4274793371\n",
      "bestIteration = 398\n",
      "\n",
      "Training on fold [1/5]\n",
      "\n",
      "bestTest = 0.4226169164\n",
      "bestIteration = 463\n",
      "\n",
      "Training on fold [2/5]\n",
      "\n",
      "bestTest = 0.429818564\n",
      "bestIteration = 499\n",
      "\n",
      "Training on fold [3/5]\n",
      "\n",
      "bestTest = 0.4263603285\n",
      "bestIteration = 396\n",
      "\n",
      "Training on fold [4/5]\n"
     ]
    },
    {
     "name": "stderr",
     "output_type": "stream",
     "text": [
      "[I 2024-02-26 14:49:07,503] Trial 87 finished with value: 0.8645335558433482 and parameters: {'iterations': 500, 'learning_rate': 0.0641774240840599, 'random_strength': 7, 'bagging_temperature': 1, 'max_bin': 20, 'grow_policy': 'Lossguide', 'min_data_in_leaf': 10, 'max_depth': 2, 'l2_leaf_reg': 4.9667554757120325, 'one_hot_max_size': 5, 'auto_class_weights': 'SqrtBalanced'}. Best is trial 71 with value: 0.8673031802624154.\n"
     ]
    },
    {
     "name": "stdout",
     "output_type": "stream",
     "text": [
      "\n",
      "bestTest = 0.4274958399\n",
      "bestIteration = 499\n",
      "\n",
      "Training on fold [0/5]\n",
      "\n",
      "bestTest = 0.4377186645\n",
      "bestIteration = 499\n",
      "\n",
      "Training on fold [1/5]\n",
      "\n",
      "bestTest = 0.4344599159\n",
      "bestIteration = 499\n",
      "\n",
      "Training on fold [2/5]\n",
      "\n",
      "bestTest = 0.4443792506\n",
      "bestIteration = 499\n",
      "\n",
      "Training on fold [3/5]\n",
      "\n",
      "bestTest = 0.4350767297\n",
      "bestIteration = 499\n",
      "\n",
      "Training on fold [4/5]\n"
     ]
    },
    {
     "name": "stderr",
     "output_type": "stream",
     "text": [
      "[I 2024-02-26 14:52:11,344] Trial 88 finished with value: 0.8604546876960851 and parameters: {'iterations': 500, 'learning_rate': 0.01444843271324553, 'random_strength': 5, 'bagging_temperature': 2, 'max_bin': 20, 'grow_policy': 'Lossguide', 'min_data_in_leaf': 9, 'max_depth': 4, 'l2_leaf_reg': 16.45931973587502, 'one_hot_max_size': 5, 'auto_class_weights': 'SqrtBalanced'}. Best is trial 71 with value: 0.8673031802624154.\n"
     ]
    },
    {
     "name": "stdout",
     "output_type": "stream",
     "text": [
      "\n",
      "bestTest = 0.4402866295\n",
      "bestIteration = 499\n",
      "\n",
      "Training on fold [0/5]\n",
      "\n",
      "bestTest = 0.4237286031\n",
      "bestIteration = 395\n",
      "\n",
      "Training on fold [1/5]\n",
      "\n",
      "bestTest = 0.4181240323\n",
      "bestIteration = 379\n",
      "\n",
      "Training on fold [2/5]\n",
      "\n",
      "bestTest = 0.4271185666\n",
      "bestIteration = 426\n",
      "\n",
      "Training on fold [3/5]\n",
      "\n",
      "bestTest = 0.4245499354\n",
      "bestIteration = 356\n",
      "\n",
      "Training on fold [4/5]\n"
     ]
    },
    {
     "name": "stderr",
     "output_type": "stream",
     "text": [
      "[I 2024-02-26 14:54:30,159] Trial 89 finished with value: 0.8664641631106701 and parameters: {'iterations': 500, 'learning_rate': 0.040781974911842954, 'random_strength': 6, 'bagging_temperature': 2, 'max_bin': 20, 'grow_policy': 'Lossguide', 'min_data_in_leaf': 10, 'max_depth': 4, 'l2_leaf_reg': 0.0003831303544701021, 'one_hot_max_size': 5, 'auto_class_weights': 'SqrtBalanced'}. Best is trial 71 with value: 0.8673031802624154.\n"
     ]
    },
    {
     "name": "stdout",
     "output_type": "stream",
     "text": [
      "\n",
      "bestTest = 0.4253080781\n",
      "bestIteration = 402\n",
      "\n",
      "Training on fold [0/5]\n",
      "\n",
      "bestTest = 0.4235964812\n",
      "bestIteration = 351\n",
      "\n",
      "Training on fold [1/5]\n",
      "\n",
      "bestTest = 0.4192899454\n",
      "bestIteration = 416\n",
      "\n",
      "Training on fold [2/5]\n",
      "\n",
      "bestTest = 0.4280941938\n",
      "bestIteration = 421\n",
      "\n",
      "Training on fold [3/5]\n",
      "\n",
      "bestTest = 0.42480304\n",
      "bestIteration = 330\n",
      "\n",
      "Training on fold [4/5]\n"
     ]
    },
    {
     "name": "stderr",
     "output_type": "stream",
     "text": [
      "[I 2024-02-26 14:55:53,033] Trial 90 finished with value: 0.8662419219145336 and parameters: {'iterations': 500, 'learning_rate': 0.05074143042755888, 'random_strength': 5, 'bagging_temperature': 1, 'max_bin': 20, 'grow_policy': 'Lossguide', 'min_data_in_leaf': 8, 'max_depth': 3, 'l2_leaf_reg': 2.838276294907823, 'one_hot_max_size': 5, 'auto_class_weights': 'SqrtBalanced'}. Best is trial 71 with value: 0.8673031802624154.\n"
     ]
    },
    {
     "name": "stdout",
     "output_type": "stream",
     "text": [
      "\n",
      "bestTest = 0.425121624\n",
      "bestIteration = 417\n",
      "\n",
      "Training on fold [0/5]\n",
      "\n",
      "bestTest = 0.4247551847\n",
      "bestIteration = 277\n",
      "\n",
      "Training on fold [1/5]\n",
      "\n",
      "bestTest = 0.4164565678\n",
      "bestIteration = 299\n",
      "\n",
      "Training on fold [2/5]\n",
      "\n",
      "bestTest = 0.4257683996\n",
      "bestIteration = 295\n",
      "\n",
      "Training on fold [3/5]\n",
      "\n",
      "bestTest = 0.4243040266\n",
      "bestIteration = 243\n",
      "\n",
      "Training on fold [4/5]\n"
     ]
    },
    {
     "name": "stderr",
     "output_type": "stream",
     "text": [
      "[I 2024-02-26 14:58:27,228] Trial 91 finished with value: 0.8667821448487191 and parameters: {'iterations': 500, 'learning_rate': 0.055188334547973845, 'random_strength': 6, 'bagging_temperature': 2, 'max_bin': 20, 'grow_policy': 'Lossguide', 'min_data_in_leaf': 9, 'max_depth': 5, 'l2_leaf_reg': 9.358025143562026, 'one_hot_max_size': 5, 'auto_class_weights': 'SqrtBalanced'}. Best is trial 71 with value: 0.8673031802624154.\n"
     ]
    },
    {
     "name": "stdout",
     "output_type": "stream",
     "text": [
      "\n",
      "bestTest = 0.4256166145\n",
      "bestIteration = 292\n",
      "\n",
      "Training on fold [0/5]\n",
      "\n",
      "bestTest = 0.4247500339\n",
      "bestIteration = 499\n",
      "\n",
      "Training on fold [1/5]\n",
      "\n",
      "bestTest = 0.4174915731\n",
      "bestIteration = 499\n",
      "\n",
      "Training on fold [2/5]\n",
      "\n",
      "bestTest = 0.4270673187\n",
      "bestIteration = 499\n",
      "\n",
      "Training on fold [3/5]\n",
      "\n",
      "bestTest = 0.4220626327\n",
      "bestIteration = 499\n",
      "\n",
      "Training on fold [4/5]\n"
     ]
    },
    {
     "name": "stderr",
     "output_type": "stream",
     "text": [
      "[I 2024-02-26 15:03:07,443] Trial 92 finished with value: 0.8673589335901847 and parameters: {'iterations': 500, 'learning_rate': 0.026000835841408616, 'random_strength': 6, 'bagging_temperature': 3, 'max_bin': 20, 'grow_policy': 'Lossguide', 'min_data_in_leaf': 9, 'max_depth': 5, 'l2_leaf_reg': 5.939022511545098, 'one_hot_max_size': 5, 'auto_class_weights': 'SqrtBalanced'}. Best is trial 92 with value: 0.8673589335901847.\n"
     ]
    },
    {
     "name": "stdout",
     "output_type": "stream",
     "text": [
      "\n",
      "bestTest = 0.4261341094\n",
      "bestIteration = 499\n",
      "\n",
      "Training on fold [0/5]\n",
      "\n",
      "bestTest = 0.427440065\n",
      "bestIteration = 499\n",
      "\n",
      "Training on fold [1/5]\n",
      "\n",
      "bestTest = 0.4247048354\n",
      "bestIteration = 499\n",
      "\n",
      "Training on fold [2/5]\n",
      "\n",
      "bestTest = 0.4348081128\n",
      "bestIteration = 499\n",
      "\n",
      "Training on fold [3/5]\n",
      "\n",
      "bestTest = 0.4273401997\n",
      "bestIteration = 499\n",
      "\n",
      "Training on fold [4/5]\n"
     ]
    },
    {
     "name": "stderr",
     "output_type": "stream",
     "text": [
      "[I 2024-02-26 15:07:45,958] Trial 93 finished with value: 0.8643728109118175 and parameters: {'iterations': 500, 'learning_rate': 0.02217381735440461, 'random_strength': 6, 'bagging_temperature': 3, 'max_bin': 20, 'grow_policy': 'Lossguide', 'min_data_in_leaf': 9, 'max_depth': 5, 'l2_leaf_reg': 6.274755571082019, 'one_hot_max_size': 5, 'auto_class_weights': 'SqrtBalanced'}. Best is trial 92 with value: 0.8673589335901847.\n"
     ]
    },
    {
     "name": "stdout",
     "output_type": "stream",
     "text": [
      "\n",
      "bestTest = 0.4300487405\n",
      "bestIteration = 499\n",
      "\n",
      "Training on fold [0/5]\n",
      "\n",
      "bestTest = 0.4236608618\n",
      "bestIteration = 499\n",
      "\n",
      "Training on fold [1/5]\n",
      "\n",
      "bestTest = 0.4189702033\n",
      "bestIteration = 496\n",
      "\n",
      "Training on fold [2/5]\n",
      "\n",
      "bestTest = 0.4276124844\n",
      "bestIteration = 499\n",
      "\n",
      "Training on fold [3/5]\n",
      "\n",
      "bestTest = 0.4231634338\n",
      "bestIteration = 499\n",
      "\n",
      "Training on fold [4/5]\n"
     ]
    },
    {
     "name": "stderr",
     "output_type": "stream",
     "text": [
      "[I 2024-02-26 15:11:25,785] Trial 94 finished with value: 0.8667735756472167 and parameters: {'iterations': 500, 'learning_rate': 0.031328352662506075, 'random_strength': 7, 'bagging_temperature': 2, 'max_bin': 20, 'grow_policy': 'Lossguide', 'min_data_in_leaf': 8, 'max_depth': 4, 'l2_leaf_reg': 0.4210831941662582, 'one_hot_max_size': 5, 'auto_class_weights': 'SqrtBalanced'}. Best is trial 92 with value: 0.8673589335901847.\n"
     ]
    },
    {
     "name": "stdout",
     "output_type": "stream",
     "text": [
      "\n",
      "bestTest = 0.4249500454\n",
      "bestIteration = 482\n",
      "\n",
      "Training on fold [0/5]\n",
      "\n",
      "bestTest = 0.4224115817\n",
      "bestIteration = 373\n",
      "\n",
      "Training on fold [1/5]\n",
      "\n",
      "bestTest = 0.4183154984\n",
      "bestIteration = 369\n",
      "\n",
      "Training on fold [2/5]\n",
      "\n",
      "bestTest = 0.4257552275\n",
      "bestIteration = 361\n",
      "\n",
      "Training on fold [3/5]\n",
      "\n",
      "bestTest = 0.4263394089\n",
      "bestIteration = 277\n",
      "\n",
      "Training on fold [4/5]\n"
     ]
    },
    {
     "name": "stderr",
     "output_type": "stream",
     "text": [
      "[I 2024-02-26 15:15:12,502] Trial 95 finished with value: 0.8662498321686638 and parameters: {'iterations': 500, 'learning_rate': 0.040661404339523415, 'random_strength': 5, 'bagging_temperature': 3, 'max_bin': 6, 'grow_policy': 'Lossguide', 'min_data_in_leaf': 9, 'max_depth': 5, 'l2_leaf_reg': 0.021779725833226005, 'one_hot_max_size': 5, 'auto_class_weights': 'SqrtBalanced'}. Best is trial 92 with value: 0.8673589335901847.\n"
     ]
    },
    {
     "name": "stdout",
     "output_type": "stream",
     "text": [
      "\n",
      "bestTest = 0.4260403762\n",
      "bestIteration = 338\n",
      "\n",
      "Training on fold [0/5]\n",
      "\n",
      "bestTest = 0.4254312191\n",
      "bestIteration = 202\n",
      "\n",
      "Training on fold [1/5]\n",
      "\n",
      "bestTest = 0.4181603495\n",
      "bestIteration = 264\n",
      "\n",
      "Training on fold [2/5]\n",
      "\n",
      "bestTest = 0.4234988585\n",
      "bestIteration = 289\n",
      "\n",
      "Training on fold [3/5]\n",
      "\n",
      "bestTest = 0.4242538863\n",
      "bestIteration = 196\n",
      "\n",
      "Training on fold [4/5]\n"
     ]
    },
    {
     "name": "stderr",
     "output_type": "stream",
     "text": [
      "[I 2024-02-26 15:16:43,610] Trial 96 finished with value: 0.8665262313106499 and parameters: {'iterations': 500, 'learning_rate': 0.0740925668369815, 'random_strength': 6, 'bagging_temperature': 1, 'max_bin': 20, 'grow_policy': 'Lossguide', 'min_data_in_leaf': 10, 'max_depth': 4, 'l2_leaf_reg': 1.8820557606216624e-08, 'one_hot_max_size': 5, 'auto_class_weights': 'SqrtBalanced'}. Best is trial 92 with value: 0.8673589335901847.\n"
     ]
    },
    {
     "name": "stdout",
     "output_type": "stream",
     "text": [
      "\n",
      "bestTest = 0.4262142238\n",
      "bestIteration = 211\n",
      "\n",
      "Training on fold [0/5]\n",
      "\n",
      "bestTest = 0.4226792617\n",
      "bestIteration = 304\n",
      "\n",
      "Training on fold [1/5]\n",
      "\n",
      "bestTest = 0.4195610729\n",
      "bestIteration = 328\n",
      "\n",
      "Training on fold [2/5]\n",
      "\n",
      "bestTest = 0.4223440232\n",
      "bestIteration = 363\n",
      "\n",
      "Training on fold [3/5]\n",
      "\n",
      "bestTest = 0.4244167589\n",
      "bestIteration = 267\n",
      "\n",
      "Training on fold [4/5]\n"
     ]
    },
    {
     "name": "stderr",
     "output_type": "stream",
     "text": [
      "[I 2024-02-26 15:20:51,129] Trial 97 finished with value: 0.8670611275865202 and parameters: {'iterations': 500, 'learning_rate': 0.049898080340566295, 'random_strength': 6, 'bagging_temperature': 2, 'max_bin': 20, 'grow_policy': 'Lossguide', 'min_data_in_leaf': 10, 'max_depth': 5, 'l2_leaf_reg': 0.9723120481011398, 'one_hot_max_size': 5, 'auto_class_weights': 'SqrtBalanced'}. Best is trial 92 with value: 0.8673589335901847.\n"
     ]
    },
    {
     "name": "stdout",
     "output_type": "stream",
     "text": [
      "\n",
      "bestTest = 0.4242950816\n",
      "bestIteration = 313\n",
      "\n",
      "Training on fold [0/5]\n",
      "\n",
      "bestTest = 0.4368297644\n",
      "bestIteration = 499\n",
      "\n",
      "Training on fold [1/5]\n",
      "\n",
      "bestTest = 0.4338937107\n",
      "bestIteration = 499\n",
      "\n",
      "Training on fold [2/5]\n",
      "\n",
      "bestTest = 0.4434503425\n",
      "bestIteration = 499\n",
      "\n",
      "Training on fold [3/5]\n",
      "\n",
      "bestTest = 0.4348544922\n",
      "bestIteration = 499\n",
      "\n",
      "Training on fold [4/5]\n"
     ]
    },
    {
     "name": "stderr",
     "output_type": "stream",
     "text": [
      "[I 2024-02-26 15:28:02,763] Trial 98 finished with value: 0.8615015268083098 and parameters: {'iterations': 500, 'learning_rate': 0.011858618176462296, 'random_strength': 5, 'bagging_temperature': 3, 'max_bin': 30, 'grow_policy': 'Lossguide', 'min_data_in_leaf': 10, 'max_depth': 5, 'l2_leaf_reg': 0.13663140966916693, 'one_hot_max_size': 5, 'auto_class_weights': 'SqrtBalanced'}. Best is trial 92 with value: 0.8673589335901847.\n"
     ]
    },
    {
     "name": "stdout",
     "output_type": "stream",
     "text": [
      "\n",
      "bestTest = 0.4401765594\n",
      "bestIteration = 499\n",
      "\n",
      "Training on fold [0/5]\n",
      "\n",
      "bestTest = 0.4584386466\n",
      "bestIteration = 424\n",
      "\n",
      "Training on fold [1/5]\n",
      "\n",
      "bestTest = 0.4517973533\n",
      "bestIteration = 400\n",
      "\n",
      "Training on fold [2/5]\n",
      "\n",
      "bestTest = 0.4574709998\n",
      "bestIteration = 483\n",
      "\n",
      "Training on fold [3/5]\n",
      "\n",
      "bestTest = 0.4573941695\n",
      "bestIteration = 395\n",
      "\n",
      "Training on fold [4/5]\n"
     ]
    },
    {
     "name": "stderr",
     "output_type": "stream",
     "text": [
      "[I 2024-02-26 15:31:10,689] Trial 99 finished with value: 0.8662146300126773 and parameters: {'iterations': 500, 'learning_rate': 0.03955910058708377, 'random_strength': 7, 'bagging_temperature': 3, 'max_bin': 5, 'grow_policy': 'Lossguide', 'min_data_in_leaf': 10, 'max_depth': 4, 'l2_leaf_reg': 3.2454032201603495, 'one_hot_max_size': 5, 'auto_class_weights': 'Balanced'}. Best is trial 92 with value: 0.8673589335901847.\n"
     ]
    },
    {
     "name": "stdout",
     "output_type": "stream",
     "text": [
      "\n",
      "bestTest = 0.4598464166\n",
      "bestIteration = 379\n",
      "\n",
      "H1N1 ROC AUC Score: 0.871964560246191\n"
     ]
    }
   ],
   "source": [
    "import os\n",
    "import numpy as np\n",
    "import pandas as pd\n",
    "import optuna\n",
    "from sklearn.metrics import roc_auc_score\n",
    "from catboost import CatBoostClassifier\n",
    "\n",
    "# Define your functions cv() and train_dataset() if they're not already defined\n",
    "\n",
    "# Assuming X_train, X_test, y_train, y_test, test, SUBMISSION_FORMAT_PATH, and OUTPUT_DIR are defined\n",
    "\n",
    "def objective(trial):\n",
    "    param = {\n",
    "        'iterations': trial.suggest_categorical('iterations', [100, 200, 300, 500]),  # Reduced iterations\n",
    "        'learning_rate': trial.suggest_float(\"learning_rate\", 0.001, 0.3),\n",
    "        'random_strength': trial.suggest_int(\"random_strength\", 1, 10),\n",
    "        'bagging_temperature': trial.suggest_int(\"bagging_temperature\", 0, 10),\n",
    "        'max_bin': trial.suggest_categorical('max_bin', [4, 5, 6, 8, 10, 20, 30]),\n",
    "        'grow_policy': trial.suggest_categorical('grow_policy', ['SymmetricTree', 'Depthwise', 'Lossguide']),\n",
    "        'min_data_in_leaf': trial.suggest_int(\"min_data_in_leaf\", 1, 10),\n",
    "        'od_type': \"Iter\",\n",
    "        'od_wait': 100,\n",
    "        \"depth\": trial.suggest_int(\"max_depth\", 2, 10),\n",
    "        \"l2_leaf_reg\": trial.suggest_loguniform(\"l2_leaf_reg\", 1e-8, 100),\n",
    "        'one_hot_max_size': trial.suggest_categorical('one_hot_max_size', [5, 10, 12, 100, 500, 1024]),\n",
    "        'custom_metric': ['AUC'],\n",
    "        \"loss_function\": \"Logloss\",\n",
    "        'auto_class_weights': trial.suggest_categorical('auto_class_weights', ['Balanced', 'SqrtBalanced']),\n",
    "    }\n",
    "\n",
    "    scores = cv(train_dataset, param, fold_count=5, early_stopping_rounds=10, plot=False, verbose=False)\n",
    "    return scores['test-AUC-mean'].max()\n",
    "\n",
    "sampler = optuna.samplers.TPESampler(seed=68)\n",
    "study = optuna.create_study(direction=\"maximize\", sampler=sampler)\n",
    "study.optimize(objective, n_trials=100)\n",
    "\n",
    "# Train the final model with the best parameters\n",
    "best_trial = study.best_trial\n",
    "final_model = CatBoostClassifier(verbose=False, cat_features=np.where(X_train.dtypes != float)[0], **best_trial.params)\n",
    "final_model.fit(X_train, y_train.h1n1_vaccine)\n",
    "\n",
    "# Predict and evaluate\n",
    "predictions_h1 = final_model.predict_proba(X_test)[:, 1].reshape(-1, 1)\n",
    "roc_auc_score_h1 = roc_auc_score(y_test.h1n1_vaccine, predictions_h1)\n",
    "print(f\"H1N1 ROC AUC Score: {roc_auc_score_h1}\")\n",
    "\n",
    "# Repeat the process for the second model (seasonal_vaccine)\n",
    "# Assuming the same process as above for the seasonal vaccine\n",
    "\n",
    "# Make submission\n",
    "submission_df = pd.read_csv(SUBMISSION_FORMAT_PATH, index_col=\"respondent_id\")\n",
    "\n",
    "# Ensure the order of rows matches\n",
    "assert np.array_equal(test.index.values, submission_df.index.values)\n",
    "\n",
    "# Use the final_model to predict on the test set\n",
    "submission_df[\"h1n1_vaccine\"] = final_model.predict_proba(test)[:, 1].reshape(-1, 1)\n",
    "# Replace `final_se` with appropriate predictions for seasonal vaccine\n",
    "submission_df[\"seasonal_vaccine\"] = final_model.predict_proba(test)[:, 1].reshape(-1, 1)\n",
    "\n",
    "# Save submission to CSV\n",
    "date = pd.Timestamp.now().strftime(format='%Y-%m-%d_%H-%M_')\n",
    "submission_df.to_csv(os.path.join(OUTPUT_DIR, f'{date}submission_catboost_optuna.csv'), index=True)\n"
   ]
  },
  {
   "cell_type": "code",
   "execution_count": null,
   "id": "1df83b12",
   "metadata": {},
   "outputs": [],
   "source": []
  }
 ],
 "metadata": {
  "kernelspec": {
   "display_name": "Python 3 (ipykernel)",
   "language": "python",
   "name": "python3"
  },
  "language_info": {
   "codemirror_mode": {
    "name": "ipython",
    "version": 3
   },
   "file_extension": ".py",
   "mimetype": "text/x-python",
   "name": "python",
   "nbconvert_exporter": "python",
   "pygments_lexer": "ipython3",
   "version": "3.11.5"
  }
 },
 "nbformat": 4,
 "nbformat_minor": 5
}
